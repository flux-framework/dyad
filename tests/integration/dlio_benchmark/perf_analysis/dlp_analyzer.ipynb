{
 "cells": [
  {
   "cell_type": "code",
   "execution_count": 1,
   "id": "86ed50dc-d4d6-4e78-be69-1d55b8362a46",
   "metadata": {
    "ExecuteTime": {
     "end_time": "2024-01-24T22:02:02.223126Z",
     "start_time": "2024-01-24T22:02:02.192441Z"
    },
    "scrolled": true
   },
   "outputs": [],
   "source": [
    "%load_ext autoreload"
   ]
  },
  {
   "cell_type": "code",
   "execution_count": 2,
   "id": "93bc48a5-30a9-4108-88a6-59861bddd0ce",
   "metadata": {
    "ExecuteTime": {
     "end_time": "2024-01-24T22:02:02.229766Z",
     "start_time": "2024-01-24T22:02:02.226115Z"
    }
   },
   "outputs": [],
   "source": [
    "%autoreload 2"
   ]
  },
  {
   "cell_type": "code",
   "execution_count": 3,
   "id": "4a47492d-40d0-4dea-b1a2-aa1f083239e3",
   "metadata": {
    "ExecuteTime": {
     "end_time": "2024-01-24T22:02:03.039300Z",
     "start_time": "2024-01-24T22:02:02.234778Z"
    }
   },
   "outputs": [
    {
     "name": "stdout",
     "output_type": "stream",
     "text": [
      "/usr/WS2/haridev/dyad/env/python/lib/python3.9/site-packages/yaml/__init__.py\n"
     ]
    }
   ],
   "source": [
    "import json\n",
    "import os\n",
    "import yaml\n",
    "print(yaml.__file__)\n",
    "from pathlib import Path\n",
    "from dask.distributed import Client\n",
    "import dask"
   ]
  },
  {
   "cell_type": "code",
   "execution_count": 4,
   "id": "7c006011",
   "metadata": {
    "ExecuteTime": {
     "end_time": "2024-01-24T22:02:03.065373Z",
     "start_time": "2024-01-24T22:02:03.043452Z"
    }
   },
   "outputs": [],
   "source": [
    "use_local=True"
   ]
  },
  {
   "cell_type": "code",
   "execution_count": 5,
   "id": "ef1dcd21-7001-47d4-b0e0-b9460b86556d",
   "metadata": {
    "ExecuteTime": {
     "end_time": "2024-01-24T22:02:03.091173Z",
     "start_time": "2024-01-24T22:02:03.067638Z"
    }
   },
   "outputs": [],
   "source": [
    "if not use_local:\n",
    "    with open(f'~/.dlio_profiler/configuration.yaml', 'r') as file:\n",
    "        dlp_yaml = yaml.safe_load(file)\n",
    "        app_root = dlp_yaml[\"app\"]\n",
    "else:\n",
    "    app_root = str(Path(os.getcwd()).parent.parent)"
   ]
  },
  {
   "cell_type": "code",
   "execution_count": 6,
   "id": "c310a43c-006c-4c36-9d54-d7056e9c0519",
   "metadata": {
    "ExecuteTime": {
     "end_time": "2024-01-24T22:02:03.121643Z",
     "start_time": "2024-01-24T22:02:03.093453Z"
    }
   },
   "outputs": [
    {
     "data": {
      "text/plain": [
       "['/usr/WS2/haridev/dyad/tests/integration',\n",
       " '/usr/WS2/haridev/dyad/tests/integration/dlio_benchmark/perf_analysis',\n",
       " '/collab/usr/gapps/python/build/spack-toss4.1/var/spack/environments/python/._view/75prb56irmif5ejtirjthpx6kq3gqo52/lib/python39.zip',\n",
       " '/collab/usr/gapps/python/build/spack-toss4.1/var/spack/environments/python/._view/75prb56irmif5ejtirjthpx6kq3gqo52/lib/python3.9',\n",
       " '/collab/usr/gapps/python/build/spack-toss4.1/var/spack/environments/python/._view/75prb56irmif5ejtirjthpx6kq3gqo52/lib/python3.9/lib-dynload',\n",
       " '',\n",
       " '/usr/WS2/haridev/dyad/env/python/lib/python3.9/site-packages']"
      ]
     },
     "execution_count": 6,
     "metadata": {},
     "output_type": "execute_result"
    }
   ],
   "source": [
    "# to make this notebook in dev mode.\n",
    "import sys\n",
    "sys.path.insert(0, app_root)\n",
    "sys.path"
   ]
  },
  {
   "cell_type": "code",
   "execution_count": 7,
   "id": "89d58cc4-dd7a-47f8-82a6-6ef2ea9a2bc0",
   "metadata": {
    "ExecuteTime": {
     "end_time": "2024-01-24T22:02:04.924373Z",
     "start_time": "2024-01-24T22:02:03.124125Z"
    }
   },
   "outputs": [
    {
     "name": "stdout",
     "output_type": "stream",
     "text": [
      "/usr/WS2/haridev/dyad/env/python/lib/python3.9/site-packages/dlp_analyzer/__init__.py\n"
     ]
    }
   ],
   "source": [
    "import dlp_analyzer\n",
    "print(dlp_analyzer.__file__)\n",
    "from dlp_analyzer.main import DLPAnalyzer,get_dlp_configuration,update_dlp_configuration,setup_logging,setup_dask_cluster, reset_dask_cluster, get_dlp_configuration"
   ]
  },
  {
   "cell_type": "code",
   "execution_count": 8,
   "id": "91b2872f",
   "metadata": {
    "ExecuteTime": {
     "end_time": "2024-01-24T22:02:04.958531Z",
     "start_time": "2024-01-24T22:02:04.927109Z"
    }
   },
   "outputs": [],
   "source": [
    "if not use_local:\n",
    "    dask_run_dir = os.path.join(app_root, \"dlp_analyzer\", \"dask\", \"run_dir\")\n",
    "    with open (os.path.join(dask_run_dir, f\"scheduler_{os.getenv('USER')}.json\"), \"r\") as f:\n",
    "        dask_scheduler = json.load(f)[\"address\"]\n",
    "else:\n",
    "    dask_scheduler = None"
   ]
  },
  {
   "cell_type": "code",
   "execution_count": 9,
   "id": "1b330315-f487-409a-b2c6-d6eab2894b87",
   "metadata": {
    "ExecuteTime": {
     "end_time": "2024-01-24T22:02:04.991304Z",
     "start_time": "2024-01-24T22:02:04.960853Z"
    }
   },
   "outputs": [],
   "source": [
    "app_name = \"dyad_dlio_unet3d\" # resnet cosmoflow unet3d mummi deepspeed dlio_resnet dlio_cosmoflow dyad_dlio_unet3d"
   ]
  },
  {
   "cell_type": "code",
   "execution_count": 10,
   "id": "6fe1d34c-f607-4c29-ad3e-e199276fd30c",
   "metadata": {
    "ExecuteTime": {
     "end_time": "2024-01-24T22:02:05.029720Z",
     "start_time": "2024-01-24T22:02:04.993602Z"
    }
   },
   "outputs": [],
   "source": [
    "def get_conditions_dyad_dlio_unet3d(json_object):\n",
    "    app_io_cond = \"getitem\" in json_object[\"cat\"] # dyad_dlio_unet3d\n",
    "    compute_cond = \"compute\" in json_object[\"name\"] # dyad_dlio_unet3d\n",
    "    io_cond = \"POSIX\" == json_object[\"cat\"] # dyad_dlio_unet3d\n",
    "    return app_io_cond, compute_cond, io_cond\n",
    "def get_conditions_cosmoflow(json_object):\n",
    "    app_io_cond = \"TFReader.parse_image\" in json_object[\"name\"] # Cosmoflow\n",
    "    compute_cond = \"compute\" in json_object[\"name\"] # Cosmoflow\n",
    "    io_cond = \"POSIX\" == json_object[\"cat\"] # Cosmoflow\n",
    "    return app_io_cond, compute_cond, io_cond\n",
    "\n",
    "def get_conditions_resnet(json_object):\n",
    "    app_io_cond = \"IO\" == json_object[\"cat\"] # Resnet50\n",
    "    compute_cond = \"cpu\" in json_object[\"name\"] or \"compute\" in json_object[\"cat\"] # Resnet50\n",
    "    io_cond = \"POSIX\" == json_object[\"cat\"] # Cosmoflow\n",
    "    return app_io_cond, compute_cond, io_cond\n",
    "\n",
    "def get_conditions_unet3d(json_object):\n",
    "    app_io_cond = \"NPZReader.read_index\" in json_object[\"name\"] # Unet3d\n",
    "    compute_cond = \"compute\" in json_object[\"name\"] # Unet3d\n",
    "    io_cond = \"POSIX\" == json_object[\"cat\"] # Cosmoflow\n",
    "    return app_io_cond, compute_cond, io_cond\n",
    "\n",
    "def get_conditions_dlio_resnet(json_object):\n",
    "    app_io_cond = \"read_index\" in json_object[\"name\"] # Unet3d\n",
    "    compute_cond = \"compute\" in json_object[\"name\"] # Unet3d\n",
    "    io_cond = \"POSIX\" == json_object[\"cat\"] # Cosmoflow\n",
    "    return app_io_cond, compute_cond, io_cond\n"
   ]
  },
  {
   "cell_type": "code",
   "execution_count": 11,
   "id": "face72a1-485a-4168-b87a-2171aad37691",
   "metadata": {
    "ExecuteTime": {
     "end_time": "2024-01-24T22:02:05.066019Z",
     "start_time": "2024-01-24T22:02:05.032047Z"
    }
   },
   "outputs": [],
   "source": [
    "condition_fn = None #\n",
    "if app_name == \"cosmoflow\":\n",
    "    filename = \"/usr/WS2/iopp/kogiou1/dlio_benchmark/hydra_log/cosmoflow/2023-10-31-10-27-24/.trace*.pfw.gz\"\n",
    "    condition_fn = get_conditions_cosmoflow\n",
    "elif app_name == \"dlio_cosmoflow\":\n",
    "    filename = \"/usr/workspace/iopp/kogiou1/dlio_benchmark/hydra_log/cosmoflow/2023-11-01-18-47-58/.trace*.pfw.gz\"\n",
    "    condition_fn = get_conditions_cosmoflow\n",
    "elif app_name == \"resnet\":\n",
    "    filename = \"/usr/workspace/iopp/dlio_paper_results/resnet_50_1node_4ppn/*.pfw.gz\"\n",
    "    condition_fn = get_conditions_resnet\n",
    "elif app_name == \"unet3d\":\n",
    "    filename = \"/usr/workspace/iopp/kogiou1/dlio_benchmark_logs/unet3d/node_32_ppn_4/.trace*.pfw.gz\"\n",
    "    condition_fn = get_conditions_unet3d\n",
    "elif app_name == \"mummi\":\n",
    "    filename = \"/usr/workspace/iopp/dlp_traces/mummi-32-node/trace*.pfw.gz\"\n",
    "elif app_name == \"deepspeed\":\n",
    "    filename = \"/usr/workspace/iopp/dlp_traces/deepspeed_8_4ppn/*.pfw.gz\"\n",
    "elif app_name == \"dlio_resnet\":\n",
    "    filename = \"/usr/workspace/iopp/kogiou1/dlio_benchmark/hydra_log/resnet50/2023-11-01-10-52-58/.trace*.pfw.gz\"\n",
    "    condition_fn = get_conditions_dlio_resnet\n",
    "elif app_name == \"dyad_dlio_unet3d\":\n",
    "    filename = \"/usr/workspace/ice4hpc/dlio/dyad_logs/node_2_ppn_8_full_unet3d_base/*.pfw\"\n",
    "    #filename = \"/usr/workspace/ice4hpc/dlio/dyad_logs/ian_opts/n1_p8_br1/*.pfw\"\n",
    "    filename = \"/usr/workspace/ice4hpc/dlio/dyad_logs/final_opts/n1_p8_br1/*.pfw\"\n",
    "    filename = \"/usr/workspace/ice4hpc/dlio/dyad_logs/final_opts/n1_p8_br2/*.pfw\"\n",
    "    filename = \"/usr/workspace/ice4hpc/dlio/dyad_logs/dlp/n_2_p_8_br_1/*.pfw\"\n",
    "    condition_fn = get_conditions_dyad_dlio_unet3d\n",
    "else:\n",
    "    raise Exception(\"Unknown App name\")"
   ]
  },
  {
   "cell_type": "code",
   "execution_count": 12,
   "id": "d0ba3eea",
   "metadata": {
    "ExecuteTime": {
     "end_time": "2024-01-24T22:02:05.099997Z",
     "start_time": "2024-01-24T22:02:05.068383Z"
    }
   },
   "outputs": [],
   "source": [
    "def dyad_function(json_object, current_dict, time_approximate,condition_fn):\n",
    "    d = {}\n",
    "    if \"args\" in json_object:\n",
    "        if \"file_size\" in json_object[\"args\"]:\n",
    "            d[\"size\"] = int(json_object[\"args\"][\"file_size\"])\n",
    "        elif \"inlen\" in json_object[\"args\"]:\n",
    "            d[\"size\"] = int(json_object[\"args\"][\"inlen\"])\n",
    "    return d"
   ]
  },
  {
   "cell_type": "code",
   "execution_count": 13,
   "id": "4918121a",
   "metadata": {
    "ExecuteTime": {
     "end_time": "2024-01-24T22:02:05.136509Z",
     "start_time": "2024-01-24T22:02:05.106702Z"
    }
   },
   "outputs": [],
   "source": [
    "dict_fn = None\n",
    "if app_name == \"dyad_dlio_unet3d\":\n",
    "    dict_fn = dyad_function"
   ]
  },
  {
   "cell_type": "code",
   "execution_count": 14,
   "id": "d3a7cf5b-fbbc-4eee-9ed5-ce869f4541e6",
   "metadata": {
    "ExecuteTime": {
     "end_time": "2024-01-24T22:02:05.169518Z",
     "start_time": "2024-01-24T22:02:05.138776Z"
    }
   },
   "outputs": [],
   "source": [
    "conf = update_dlp_configuration(dask_scheduler=dask_scheduler, verbose=True, workers=16,\n",
    "                                log_file=f\"./dlp_{os.getenv('USER')}.log\", rebuild_index=False, time_approximate=True, \n",
    "                                host_pattern=r'lassen(\\d+)', time_granularity=10e6, skip_hostname=True, conditions=condition_fn)\n"
   ]
  },
  {
   "cell_type": "code",
   "execution_count": 15,
   "id": "9ae31f27-a26a-463a-b2e9-3adba8de7246",
   "metadata": {
    "ExecuteTime": {
     "end_time": "2024-01-24T22:02:05.203383Z",
     "start_time": "2024-01-24T22:02:05.171816Z"
    },
    "scrolled": true
   },
   "outputs": [
    {
     "data": {
      "text/plain": [
       "10000000.0"
      ]
     },
     "execution_count": 15,
     "metadata": {},
     "output_type": "execute_result"
    }
   ],
   "source": [
    "conf = get_dlp_configuration()\n",
    "conf.time_approximate\n",
    "conf.time_granularity"
   ]
  },
  {
   "cell_type": "code",
   "execution_count": 16,
   "id": "04428959-820f-4466-8ceb-778bcce93bf0",
   "metadata": {
    "ExecuteTime": {
     "end_time": "2024-01-24T22:02:05.236143Z",
     "start_time": "2024-01-24T22:02:05.205909Z"
    }
   },
   "outputs": [],
   "source": [
    "setup_logging()"
   ]
  },
  {
   "cell_type": "code",
   "execution_count": 17,
   "id": "68e813b7-6b95-4f31-b223-1fb50774db50",
   "metadata": {
    "ExecuteTime": {
     "end_time": "2024-01-24T22:02:08.691674Z",
     "start_time": "2024-01-24T22:02:05.238760Z"
    }
   },
   "outputs": [
    {
     "name": "stderr",
     "output_type": "stream",
     "text": [
      "[INFO] [14:02:08] Initialized Client with 16 workers and link http://127.0.0.1:8787/status [/usr/WS2/haridev/dyad/env/python/lib/python3.9/site-packages/dlp_analyzer/main.py:670]\n",
      "2024-01-24 14:02:08,915 - distributed.nanny - WARNING - Restarting worker\n",
      "2024-01-24 14:02:08,959 - distributed.nanny - WARNING - Restarting worker\n",
      "2024-01-24 14:02:08,965 - distributed.nanny - WARNING - Restarting worker\n",
      "2024-01-24 14:02:09,022 - distributed.nanny - WARNING - Restarting worker\n",
      "2024-01-24 14:02:09,028 - distributed.nanny - WARNING - Restarting worker\n",
      "2024-01-24 14:02:09,105 - distributed.nanny - WARNING - Restarting worker\n",
      "2024-01-24 14:02:09,109 - distributed.nanny - WARNING - Restarting worker\n",
      "2024-01-24 14:02:09,149 - distributed.nanny - WARNING - Restarting worker\n",
      "2024-01-24 14:02:09,155 - distributed.nanny - WARNING - Restarting worker\n",
      "2024-01-24 14:02:09,202 - distributed.nanny - WARNING - Restarting worker\n",
      "2024-01-24 14:02:09,207 - distributed.nanny - WARNING - Restarting worker\n",
      "2024-01-24 14:02:09,247 - distributed.nanny - WARNING - Restarting worker\n",
      "2024-01-24 14:02:09,252 - distributed.nanny - WARNING - Restarting worker\n",
      "2024-01-24 14:02:09,268 - distributed.nanny - WARNING - Restarting worker\n",
      "2024-01-24 14:02:09,291 - distributed.nanny - WARNING - Restarting worker\n",
      "2024-01-24 14:02:09,310 - distributed.nanny - WARNING - Restarting worker\n"
     ]
    }
   ],
   "source": [
    "setup_dask_cluster()"
   ]
  },
  {
   "cell_type": "code",
   "execution_count": 18,
   "id": "236e50a4-03b6-4895-a0a5-d473f5e391b5",
   "metadata": {
    "ExecuteTime": {
     "end_time": "2024-01-24T22:02:11.178501Z",
     "start_time": "2024-01-24T22:02:08.695611Z"
    },
    "scrolled": true
   },
   "outputs": [
    {
     "name": "stderr",
     "output_type": "stream",
     "text": [
      "[INFO] [14:02:11] Restarting all workers [/usr/WS2/haridev/dyad/env/python/lib/python3.9/site-packages/dlp_analyzer/main.py:658]\n"
     ]
    }
   ],
   "source": [
    "reset_dask_cluster()"
   ]
  },
  {
   "cell_type": "code",
   "execution_count": 19,
   "id": "b37727ee-a221-43ab-81e1-cdf98c2cf314",
   "metadata": {
    "ExecuteTime": {
     "end_time": "2024-01-24T22:02:21.811631Z",
     "start_time": "2024-01-24T22:02:11.182052Z"
    },
    "scrolled": true
   },
   "outputs": [
    {
     "name": "stderr",
     "output_type": "stream",
     "text": [
      "[INFO] [14:02:11] Created index for 0 files [/usr/WS2/haridev/dyad/env/python/lib/python3.9/site-packages/dlp_analyzer/main.py:367]\n",
      "[INFO] [14:02:11] Total size of all files are <dask.bag.core.Item object at 0x1555191026a0> bytes [/usr/WS2/haridev/dyad/env/python/lib/python3.9/site-packages/dlp_analyzer/main.py:369]\n",
      "[INFO] [14:02:21] Loaded events [/usr/WS2/haridev/dyad/env/python/lib/python3.9/site-packages/dlp_analyzer/main.py:424]\n",
      "[INFO] [14:02:21] Loaded plots with slope threshold: 45 [/usr/WS2/haridev/dyad/env/python/lib/python3.9/site-packages/dlp_analyzer/main.py:430]\n"
     ]
    }
   ],
   "source": [
    "analyzer = DLPAnalyzer(filename, load_fn=dict_fn)"
   ]
  },
  {
   "cell_type": "code",
   "execution_count": 20,
   "id": "c8c4b2d0-76c4-46df-9a35-068c98aaa7f8",
   "metadata": {
    "ExecuteTime": {
     "end_time": "2024-01-24T22:02:21.929011Z",
     "start_time": "2024-01-24T22:02:21.817660Z"
    }
   },
   "outputs": [
    {
     "data": {
      "text/html": [
       "<div>\n",
       "<style scoped>\n",
       "    .dataframe tbody tr th:only-of-type {\n",
       "        vertical-align: middle;\n",
       "    }\n",
       "\n",
       "    .dataframe tbody tr th {\n",
       "        vertical-align: top;\n",
       "    }\n",
       "\n",
       "    .dataframe thead th {\n",
       "        text-align: right;\n",
       "    }\n",
       "</style>\n",
       "<table border=\"1\" class=\"dataframe\">\n",
       "  <thead>\n",
       "    <tr style=\"text-align: right;\">\n",
       "      <th></th>\n",
       "      <th>name</th>\n",
       "      <th>cat</th>\n",
       "      <th>pid</th>\n",
       "      <th>tid</th>\n",
       "      <th>ts</th>\n",
       "      <th>te</th>\n",
       "      <th>dur</th>\n",
       "      <th>tinterval</th>\n",
       "      <th>trange</th>\n",
       "      <th>hostname</th>\n",
       "      <th>compute_time</th>\n",
       "      <th>io_time</th>\n",
       "      <th>app_io_time</th>\n",
       "      <th>total_time</th>\n",
       "      <th>filename</th>\n",
       "      <th>phase</th>\n",
       "      <th>size</th>\n",
       "    </tr>\n",
       "  </thead>\n",
       "  <tbody>\n",
       "    <tr>\n",
       "      <th>0</th>\n",
       "      <td>__xstat</td>\n",
       "      <td>POSIX</td>\n",
       "      <td>0</td>\n",
       "      <td>4059738</td>\n",
       "      <td>20</td>\n",
       "      <td>256</td>\n",
       "      <td>236</td>\n",
       "      <td>&lt;NA&gt;</td>\n",
       "      <td>0.0</td>\n",
       "      <td>corona174</td>\n",
       "      <td>&lt;NA&gt;</td>\n",
       "      <td>236</td>\n",
       "      <td>&lt;NA&gt;</td>\n",
       "      <td>236</td>\n",
       "      <td>/l/ssd/haridev/dyad</td>\n",
       "      <td>2</td>\n",
       "      <td>&lt;NA&gt;</td>\n",
       "    </tr>\n",
       "    <tr>\n",
       "      <th>1</th>\n",
       "      <td>dyad_dtl_ucx_init</td>\n",
       "      <td>C_APP</td>\n",
       "      <td>0</td>\n",
       "      <td>4059738</td>\n",
       "      <td>319</td>\n",
       "      <td>87814</td>\n",
       "      <td>87495</td>\n",
       "      <td>&lt;NA&gt;</td>\n",
       "      <td>0.0</td>\n",
       "      <td>corona174</td>\n",
       "      <td>&lt;NA&gt;</td>\n",
       "      <td>&lt;NA&gt;</td>\n",
       "      <td>&lt;NA&gt;</td>\n",
       "      <td>0</td>\n",
       "      <td>&lt;NA&gt;</td>\n",
       "      <td>0</td>\n",
       "      <td>&lt;NA&gt;</td>\n",
       "    </tr>\n",
       "    <tr>\n",
       "      <th>2</th>\n",
       "      <td>dyad_dtl_init</td>\n",
       "      <td>C_APP</td>\n",
       "      <td>0</td>\n",
       "      <td>4059738</td>\n",
       "      <td>316</td>\n",
       "      <td>87857</td>\n",
       "      <td>87541</td>\n",
       "      <td>&lt;NA&gt;</td>\n",
       "      <td>0.0</td>\n",
       "      <td>corona174</td>\n",
       "      <td>&lt;NA&gt;</td>\n",
       "      <td>&lt;NA&gt;</td>\n",
       "      <td>&lt;NA&gt;</td>\n",
       "      <td>0</td>\n",
       "      <td>&lt;NA&gt;</td>\n",
       "      <td>0</td>\n",
       "      <td>&lt;NA&gt;</td>\n",
       "    </tr>\n",
       "    <tr>\n",
       "      <th>3</th>\n",
       "      <td>dyad_open</td>\n",
       "      <td>C_APP</td>\n",
       "      <td>0</td>\n",
       "      <td>4059738</td>\n",
       "      <td>311</td>\n",
       "      <td>87870</td>\n",
       "      <td>87559</td>\n",
       "      <td>&lt;NA&gt;</td>\n",
       "      <td>0.0</td>\n",
       "      <td>corona174</td>\n",
       "      <td>&lt;NA&gt;</td>\n",
       "      <td>&lt;NA&gt;</td>\n",
       "      <td>&lt;NA&gt;</td>\n",
       "      <td>0</td>\n",
       "      <td>&lt;NA&gt;</td>\n",
       "      <td>0</td>\n",
       "      <td>&lt;NA&gt;</td>\n",
       "    </tr>\n",
       "    <tr>\n",
       "      <th>4</th>\n",
       "      <td>dyad_dtl_ucx_rpc_unpack</td>\n",
       "      <td>C_APP</td>\n",
       "      <td>0</td>\n",
       "      <td>4059738</td>\n",
       "      <td>76725606</td>\n",
       "      <td>76725649</td>\n",
       "      <td>43</td>\n",
       "      <td>&lt;NA&gt;</td>\n",
       "      <td>7.0</td>\n",
       "      <td>corona174</td>\n",
       "      <td>&lt;NA&gt;</td>\n",
       "      <td>&lt;NA&gt;</td>\n",
       "      <td>&lt;NA&gt;</td>\n",
       "      <td>0</td>\n",
       "      <td>&lt;NA&gt;</td>\n",
       "      <td>0</td>\n",
       "      <td>&lt;NA&gt;</td>\n",
       "    </tr>\n",
       "  </tbody>\n",
       "</table>\n",
       "</div>"
      ],
      "text/plain": [
       "                      name    cat  pid      tid        ts        te    dur  \\\n",
       "0                  __xstat  POSIX    0  4059738        20       256    236   \n",
       "1        dyad_dtl_ucx_init  C_APP    0  4059738       319     87814  87495   \n",
       "2            dyad_dtl_init  C_APP    0  4059738       316     87857  87541   \n",
       "3                dyad_open  C_APP    0  4059738       311     87870  87559   \n",
       "4  dyad_dtl_ucx_rpc_unpack  C_APP    0  4059738  76725606  76725649     43   \n",
       "\n",
       "   tinterval  trange   hostname  compute_time  io_time  app_io_time  \\\n",
       "0       <NA>     0.0  corona174          <NA>      236         <NA>   \n",
       "1       <NA>     0.0  corona174          <NA>     <NA>         <NA>   \n",
       "2       <NA>     0.0  corona174          <NA>     <NA>         <NA>   \n",
       "3       <NA>     0.0  corona174          <NA>     <NA>         <NA>   \n",
       "4       <NA>     7.0  corona174          <NA>     <NA>         <NA>   \n",
       "\n",
       "   total_time             filename  phase  size  \n",
       "0         236  /l/ssd/haridev/dyad      2  <NA>  \n",
       "1           0                 <NA>      0  <NA>  \n",
       "2           0                 <NA>      0  <NA>  \n",
       "3           0                 <NA>      0  <NA>  \n",
       "4           0                 <NA>      0  <NA>  "
      ]
     },
     "execution_count": 20,
     "metadata": {},
     "output_type": "execute_result"
    }
   ],
   "source": [
    "analyzer.events.head()"
   ]
  },
  {
   "cell_type": "code",
   "execution_count": 21,
   "id": "34c6fa12-ce7f-4bc9-b24e-c3b59b739147",
   "metadata": {
    "ExecuteTime": {
     "end_time": "2024-01-24T22:02:21.980828Z",
     "start_time": "2024-01-24T22:02:21.932321Z"
    },
    "scrolled": true
   },
   "outputs": [],
   "source": [
    "#analyzer.events[[\"io_time\",\"compute_time\",\"app_io_time\"]].max().compute() / 1e6"
   ]
  },
  {
   "cell_type": "code",
   "execution_count": 22,
   "id": "f057a7a8-e3b3-4ed6-b1b9-769d52c7be4d",
   "metadata": {
    "ExecuteTime": {
     "end_time": "2024-01-24T22:02:22.940947Z",
     "start_time": "2024-01-24T22:02:21.984409Z"
    }
   },
   "outputs": [
    {
     "name": "stderr",
     "output_type": "stream",
     "text": [
      "[INFO] [14:02:22] Total number of events in the workload are 558167 [/usr/WS2/haridev/dyad/env/python/lib/python3.9/site-packages/dlp_analyzer/main.py:522]\n",
      "[INFO] [14:02:22] Approximate True 291859838, 8882589.0, 14980739.0, 0.0,                3111727.0, 9209877.0, 0.0, 14980739.0 [/usr/WS2/haridev/dyad/env/python/lib/python3.9/site-packages/dlp_analyzer/main.py:476]\n"
     ]
    },
    {
     "data": {
      "text/html": [
       "<pre style=\"white-space:pre;overflow-x:auto;line-height:normal;font-family:Menlo,'DejaVu Sans Mono',consolas,'Courier New',monospace\">╭──────────────────────────────────────────────────── Summary ────────────────────────────────────────────────────╮\n",
       "│ <span style=\"color: #008080; text-decoration-color: #008080\"> Allocation   </span> Scheduler Allocation Details                                                                     │\n",
       "│ <span style=\"color: #008080; text-decoration-color: #008080\">              </span> ├── Nodes: 2                                                                                     │\n",
       "│ <span style=\"color: #008080; text-decoration-color: #008080\">              </span> ├── Processes: 496                                                                               │\n",
       "│ <span style=\"color: #008080; text-decoration-color: #008080\">              </span> ├── Thread allocations across nodes (includes dynamically created threads)                       │\n",
       "│ <span style=\"color: #008080; text-decoration-color: #008080\">              </span> │   ├── Compute: 16                                                                              │\n",
       "│ <span style=\"color: #008080; text-decoration-color: #008080\">              </span> │   └── I/O: 443                                                                                 │\n",
       "│ <span style=\"color: #008080; text-decoration-color: #008080\">              </span> └── Events Recorded: 558K                                                                        │\n",
       "│ <span style=\"color: #008080; text-decoration-color: #008080\"> Dataset      </span> Description of Dataset Used                                                                      │\n",
       "│ <span style=\"color: #008080; text-decoration-color: #008080\">              </span> └── Files: 345                                                                                   │\n",
       "│ <span style=\"color: #008080; text-decoration-color: #008080\"> I/O Behavior </span> Behavior of Application                                                                          │\n",
       "│ <span style=\"color: #008080; text-decoration-color: #008080\">              </span> ├── Split of Time in application                                                                 │\n",
       "│ <span style=\"color: #008080; text-decoration-color: #008080\">              </span> │   ├── Total Time: 291.860 sec                                                                  │\n",
       "│ <span style=\"color: #008080; text-decoration-color: #008080\">              </span> │   ├── Unoverlapped App Compute: 14.981 sec                                                     │\n",
       "│ <span style=\"color: #008080; text-decoration-color: #008080\">              </span> │   ├── Compute: 14.981 sec                                                                      │\n",
       "│ <span style=\"color: #008080; text-decoration-color: #008080\">              </span> │   ├── Overall I/O: 8.883 sec                                                                   │\n",
       "│ <span style=\"color: #008080; text-decoration-color: #008080\">              </span> │   ├── Unoverlapped I/O: 3.112 sec                                                              │\n",
       "│ <span style=\"color: #008080; text-decoration-color: #008080\">              </span> │   └── Unoverlapped Compute: 9.210 sec                                                          │\n",
       "│ <span style=\"color: #008080; text-decoration-color: #008080\">              </span> └── Metrics by function                                                                          │\n",
       "│ <span style=\"color: #008080; text-decoration-color: #008080\">              </span>     ├── Function       |count |                  size                   |                        │\n",
       "│ <span style=\"color: #008080; text-decoration-color: #008080\">              </span>     ├──                |      |min   |25    |mean  |median|75    |max   |                        │\n",
       "│ <span style=\"color: #008080; text-decoration-color: #008080\">              </span>     ├── __xstat        |62    |NA    |nan   |nan   |NA    |nan   |NA    |                        │\n",
       "│ <span style=\"color: #008080; text-decoration-color: #008080\">              </span>     ├── open           |4K    |NA    |nan   |nan   |NA    |nan   |NA    |                        │\n",
       "│ <span style=\"color: #008080; text-decoration-color: #008080\">              </span>     ├── lseek          |8K    |NA    |nan   |nan   |NA    |nan   |NA    |                        │\n",
       "│ <span style=\"color: #008080; text-decoration-color: #008080\">              </span>     ├── read           |118K  |NA    |4KB   |521KB |128KB |3MB   |4MB   |                        │\n",
       "│ <span style=\"color: #008080; text-decoration-color: #008080\">              </span>     ├── close          |9K    |NA    |nan   |nan   |NA    |nan   |NA    |                        │\n",
       "│ <span style=\"color: #008080; text-decoration-color: #008080\">              </span>     ├── readlink       |10K   |NA    |nan   |nan   |NA    |nan   |NA    |                        │\n",
       "│ <span style=\"color: #008080; text-decoration-color: #008080\">              </span>     ├── open64         |5K    |NA    |nan   |nan   |NA    |nan   |NA    |                        │\n",
       "│ <span style=\"color: #008080; text-decoration-color: #008080\">              </span>     ├── __fxstat64     |9K    |NA    |nan   |nan   |NA    |nan   |NA    |                        │\n",
       "│ <span style=\"color: #008080; text-decoration-color: #008080\">              </span>     ├── lseek64        |313K  |NA    |nan   |nan   |NA    |nan   |NA    |                        │\n",
       "│ <span style=\"color: #008080; text-decoration-color: #008080\">              </span>     ├── write          |1K    |13    |73    |930KB |183   |2MB   |476MB |                        │\n",
       "│ <span style=\"color: #008080; text-decoration-color: #008080\">              </span>     ├── fcntl          |8K    |NA    |nan   |nan   |NA    |nan   |NA    |                        │\n",
       "│ <span style=\"color: #008080; text-decoration-color: #008080\">              </span>     ├── fsync          |60    |NA    |nan   |nan   |NA    |nan   |NA    |                        │\n",
       "│ <span style=\"color: #008080; text-decoration-color: #008080\">              </span>     ├── opendir        |32    |NA    |nan   |nan   |NA    |nan   |NA    |                        │\n",
       "│ <span style=\"color: #008080; text-decoration-color: #008080\">              </span>     ├── __xstat64      |144   |NA    |nan   |nan   |NA    |nan   |NA    |                        │\n",
       "│ <span style=\"color: #008080; text-decoration-color: #008080\">              </span>     └── mkdir          |80    |NA    |nan   |nan   |NA    |nan   |NA    |                        │\n",
       "╰─────────────────────────────────────────────────────────────────────────────────────────────────────────────────╯\n",
       "</pre>\n"
      ],
      "text/plain": [
       "╭──────────────────────────────────────────────────── Summary ────────────────────────────────────────────────────╮\n",
       "│ \u001b[36m \u001b[0m\u001b[36mAllocation  \u001b[0m\u001b[36m \u001b[0m Scheduler Allocation Details                                                                     │\n",
       "│ \u001b[36m              \u001b[0m ├── Nodes: 2                                                                                     │\n",
       "│ \u001b[36m              \u001b[0m ├── Processes: 496                                                                               │\n",
       "│ \u001b[36m              \u001b[0m ├── Thread allocations across nodes (includes dynamically created threads)                       │\n",
       "│ \u001b[36m              \u001b[0m │   ├── Compute: 16                                                                              │\n",
       "│ \u001b[36m              \u001b[0m │   └── I/O: 443                                                                                 │\n",
       "│ \u001b[36m              \u001b[0m └── Events Recorded: 558K                                                                        │\n",
       "│ \u001b[36m \u001b[0m\u001b[36mDataset     \u001b[0m\u001b[36m \u001b[0m Description of Dataset Used                                                                      │\n",
       "│ \u001b[36m              \u001b[0m └── Files: 345                                                                                   │\n",
       "│ \u001b[36m \u001b[0m\u001b[36mI/O Behavior\u001b[0m\u001b[36m \u001b[0m Behavior of Application                                                                          │\n",
       "│ \u001b[36m              \u001b[0m ├── Split of Time in application                                                                 │\n",
       "│ \u001b[36m              \u001b[0m │   ├── Total Time: 291.860 sec                                                                  │\n",
       "│ \u001b[36m              \u001b[0m │   ├── Unoverlapped App Compute: 14.981 sec                                                     │\n",
       "│ \u001b[36m              \u001b[0m │   ├── Compute: 14.981 sec                                                                      │\n",
       "│ \u001b[36m              \u001b[0m │   ├── Overall I/O: 8.883 sec                                                                   │\n",
       "│ \u001b[36m              \u001b[0m │   ├── Unoverlapped I/O: 3.112 sec                                                              │\n",
       "│ \u001b[36m              \u001b[0m │   └── Unoverlapped Compute: 9.210 sec                                                          │\n",
       "│ \u001b[36m              \u001b[0m └── Metrics by function                                                                          │\n",
       "│ \u001b[36m              \u001b[0m     ├── Function       |count |                  size                   |                        │\n",
       "│ \u001b[36m              \u001b[0m     ├──                |      |min   |25    |mean  |median|75    |max   |                        │\n",
       "│ \u001b[36m              \u001b[0m     ├── __xstat        |62    |NA    |nan   |nan   |NA    |nan   |NA    |                        │\n",
       "│ \u001b[36m              \u001b[0m     ├── open           |4K    |NA    |nan   |nan   |NA    |nan   |NA    |                        │\n",
       "│ \u001b[36m              \u001b[0m     ├── lseek          |8K    |NA    |nan   |nan   |NA    |nan   |NA    |                        │\n",
       "│ \u001b[36m              \u001b[0m     ├── read           |118K  |NA    |4KB   |521KB |128KB |3MB   |4MB   |                        │\n",
       "│ \u001b[36m              \u001b[0m     ├── close          |9K    |NA    |nan   |nan   |NA    |nan   |NA    |                        │\n",
       "│ \u001b[36m              \u001b[0m     ├── readlink       |10K   |NA    |nan   |nan   |NA    |nan   |NA    |                        │\n",
       "│ \u001b[36m              \u001b[0m     ├── open64         |5K    |NA    |nan   |nan   |NA    |nan   |NA    |                        │\n",
       "│ \u001b[36m              \u001b[0m     ├── __fxstat64     |9K    |NA    |nan   |nan   |NA    |nan   |NA    |                        │\n",
       "│ \u001b[36m              \u001b[0m     ├── lseek64        |313K  |NA    |nan   |nan   |NA    |nan   |NA    |                        │\n",
       "│ \u001b[36m              \u001b[0m     ├── write          |1K    |13    |73    |930KB |183   |2MB   |476MB |                        │\n",
       "│ \u001b[36m              \u001b[0m     ├── fcntl          |8K    |NA    |nan   |nan   |NA    |nan   |NA    |                        │\n",
       "│ \u001b[36m              \u001b[0m     ├── fsync          |60    |NA    |nan   |nan   |NA    |nan   |NA    |                        │\n",
       "│ \u001b[36m              \u001b[0m     ├── opendir        |32    |NA    |nan   |nan   |NA    |nan   |NA    |                        │\n",
       "│ \u001b[36m              \u001b[0m     ├── __xstat64      |144   |NA    |nan   |nan   |NA    |nan   |NA    |                        │\n",
       "│ \u001b[36m              \u001b[0m     └── mkdir          |80    |NA    |nan   |nan   |NA    |nan   |NA    |                        │\n",
       "╰─────────────────────────────────────────────────────────────────────────────────────────────────────────────────╯\n"
      ]
     },
     "metadata": {},
     "output_type": "display_data"
    }
   ],
   "source": [
    "# hydra_log/cosmoflow/2023-11-01-18-47-58/\n",
    "items = analyzer.summary()\n",
    "items"
   ]
  },
  {
   "cell_type": "code",
   "execution_count": 23,
   "id": "e49f767c-ee45-4cbd-b91d-5923a31c7a69",
   "metadata": {
    "ExecuteTime": {
     "end_time": "2024-01-24T22:02:23.205357Z",
     "start_time": "2024-01-24T22:02:22.944949Z"
    },
    "scrolled": true
   },
   "outputs": [
    {
     "data": {
      "text/plain": [
       "name\n",
       "__fxstat64     0.00000\n",
       "__xstat        0.00000\n",
       "close          0.00000\n",
       "fcntl          0.00000\n",
       "fsync          0.00000\n",
       "lseek          0.00000\n",
       "lseek64        0.00000\n",
       "open           0.00000\n",
       "open64         0.00000\n",
       "read          58.49324\n",
       "readlink       0.00000\n",
       "write          1.27108\n",
       "__xstat64      0.00000\n",
       "mkdir          0.00000\n",
       "opendir        0.00000\n",
       "Name: size, dtype: double[pyarrow]"
      ]
     },
     "execution_count": 23,
     "metadata": {},
     "output_type": "execute_result"
    }
   ],
   "source": [
    "analyzer.events.query(\"cat == 'POSIX'\").groupby(\"name\")[\"size\"].sum().compute() / 1024**3"
   ]
  },
  {
   "cell_type": "code",
   "execution_count": 24,
   "id": "e45500cf",
   "metadata": {
    "ExecuteTime": {
     "end_time": "2024-01-24T22:02:23.293795Z",
     "start_time": "2024-01-24T22:02:23.209703Z"
    }
   },
   "outputs": [
    {
     "data": {
      "text/plain": [
       "(0, 291859838)"
      ]
     },
     "execution_count": 24,
     "metadata": {},
     "output_type": "execute_result"
    }
   ],
   "source": [
    "dask.compute(analyzer.events[\"ts\"].min(), analyzer.events[\"te\"].max()) "
   ]
  },
  {
   "cell_type": "code",
   "execution_count": 33,
   "id": "5b47cb72",
   "metadata": {
    "ExecuteTime": {
     "end_time": "2024-01-24T23:23:26.514202Z",
     "start_time": "2024-01-24T23:23:26.345933Z"
    }
   },
   "outputs": [
    {
     "data": {
      "text/plain": [
       "0                     dyad_dtl_ucx_init\n",
       "1                         dyad_dtl_init\n",
       "2                             dyad_open\n",
       "3               dyad_dtl_ucx_rpc_unpack\n",
       "4              dyad_dtl_ucx_rpc_respond\n",
       "5     dyad_dtl_ucx_establish_connection\n",
       "6                 dyad_ucx_request_init\n",
       "7                    dyad_send_callback\n",
       "8                 dyad_ucx_request_wait\n",
       "9                     dyad_dtl_ucx_send\n",
       "10        dyad_dtl_ucx_close_connection\n",
       "11                dyad_fetch_request_cb\n",
       "12                             mod_main\n",
       "13                dyad_dtl_ucx_finalize\n",
       "14                    dyad_dtl_finalize\n",
       "15                            dyad_init\n",
       "16                         gen_path_key\n",
       "17                   dyad_free_metadata\n",
       "18                        dyad_kvs_read\n",
       "19                    dyad_get_metadata\n",
       "20                         dyad_produce\n",
       "21                      dyad_kvs_commit\n",
       "22                     publish_via_flux\n",
       "23                          dyad_commit\n",
       "24                      dyad_excl_flock\n",
       "25                   dyad_release_flock\n",
       "26                         dyad_consume\n",
       "27                           dyad_fetch\n",
       "28                dyad_dtl_ucx_rpc_pack\n",
       "29       dyad_dtl_ucx_rpc_recv_response\n",
       "30                   dyad_recv_callback\n",
       "31                    dyad_dtl_ucx_recv\n",
       "32                        dyad_get_data\n",
       "33                      dyad_cons_store\n",
       "Name: name, dtype: string"
      ]
     },
     "execution_count": 33,
     "metadata": {},
     "output_type": "execute_result"
    }
   ],
   "source": [
    "analyzer.events.query(\"cat == 'C_APP'\")['name'].unique().compute()"
   ]
  },
  {
   "cell_type": "code",
   "execution_count": 28,
   "id": "fcdc03a1",
   "metadata": {
    "ExecuteTime": {
     "end_time": "2024-01-24T22:11:10.607480Z",
     "start_time": "2024-01-24T22:11:09.464617Z"
    }
   },
   "outputs": [
    {
     "data": {
      "text/html": [
       "<div>\n",
       "<style scoped>\n",
       "    .dataframe tbody tr th:only-of-type {\n",
       "        vertical-align: middle;\n",
       "    }\n",
       "\n",
       "    .dataframe tbody tr th {\n",
       "        vertical-align: top;\n",
       "    }\n",
       "\n",
       "    .dataframe thead th {\n",
       "        text-align: right;\n",
       "    }\n",
       "</style>\n",
       "<table border=\"1\" class=\"dataframe\">\n",
       "  <thead>\n",
       "    <tr style=\"text-align: right;\">\n",
       "      <th></th>\n",
       "      <th>dur</th>\n",
       "      <th>size</th>\n",
       "      <th>name</th>\n",
       "      <th>bw_mbps</th>\n",
       "    </tr>\n",
       "    <tr>\n",
       "      <th>trange</th>\n",
       "      <th></th>\n",
       "      <th></th>\n",
       "      <th></th>\n",
       "      <th></th>\n",
       "    </tr>\n",
       "  </thead>\n",
       "  <tbody>\n",
       "    <tr>\n",
       "      <th>7.0</th>\n",
       "      <td>517312173</td>\n",
       "      <td>614334272</td>\n",
       "      <td>293</td>\n",
       "      <td>1.132536</td>\n",
       "    </tr>\n",
       "    <tr>\n",
       "      <th>8.0</th>\n",
       "      <td>175452770</td>\n",
       "      <td>1258022400</td>\n",
       "      <td>600</td>\n",
       "      <td>6.837986</td>\n",
       "    </tr>\n",
       "    <tr>\n",
       "      <th>13.0</th>\n",
       "      <td>38783084</td>\n",
       "      <td>1876550080</td>\n",
       "      <td>895</td>\n",
       "      <td>46.144283</td>\n",
       "    </tr>\n",
       "    <tr>\n",
       "      <th>18.0</th>\n",
       "      <td>29934527</td>\n",
       "      <td>1878646784</td>\n",
       "      <td>896</td>\n",
       "      <td>59.851194</td>\n",
       "    </tr>\n",
       "    <tr>\n",
       "      <th>23.0</th>\n",
       "      <td>29247298</td>\n",
       "      <td>1878646784</td>\n",
       "      <td>896</td>\n",
       "      <td>61.257528</td>\n",
       "    </tr>\n",
       "    <tr>\n",
       "      <th>28.0</th>\n",
       "      <td>27625414</td>\n",
       "      <td>1878646784</td>\n",
       "      <td>896</td>\n",
       "      <td>64.853949</td>\n",
       "    </tr>\n",
       "  </tbody>\n",
       "</table>\n",
       "</div>"
      ],
      "text/plain": [
       "              dur        size  name    bw_mbps\n",
       "trange                                        \n",
       "7.0     517312173   614334272   293   1.132536\n",
       "8.0     175452770  1258022400   600   6.837986\n",
       "13.0     38783084  1876550080   895  46.144283\n",
       "18.0     29934527  1878646784   896  59.851194\n",
       "23.0     29247298  1878646784   896  61.257528\n",
       "28.0     27625414  1878646784   896  64.853949"
      ]
     },
     "execution_count": 28,
     "metadata": {},
     "output_type": "execute_result"
    }
   ],
   "source": [
    "dlio_percieved=analyzer.events.query(\"name == 'DYADTorchDataset.__getitem__'\").groupby(\"trange\",\"tid\",\"pid\").agg({\"dur\":sum, \"size\":sum, \"name\":\"count\"}).groupby(\"trange\").agg({\"dur\":max, \"size\":sum, \"name\":sum})\n",
    "dlio_percieved[\"bw_mbps\"] = dlio_percieved[\"size\"] / 1024**2 / dlio_percieved[\"dur\"] * 1e6\n",
    "dlio_percieved.compute()"
   ]
  },
  {
   "cell_type": "code",
   "execution_count": 29,
   "id": "b7dacb54",
   "metadata": {
    "ExecuteTime": {
     "end_time": "2024-01-24T22:11:12.198893Z",
     "start_time": "2024-01-24T22:11:11.963930Z"
    }
   },
   "outputs": [
    {
     "data": {
      "text/html": [
       "<div>\n",
       "<style scoped>\n",
       "    .dataframe tbody tr th:only-of-type {\n",
       "        vertical-align: middle;\n",
       "    }\n",
       "\n",
       "    .dataframe tbody tr th {\n",
       "        vertical-align: top;\n",
       "    }\n",
       "\n",
       "    .dataframe thead th {\n",
       "        text-align: right;\n",
       "    }\n",
       "</style>\n",
       "<table border=\"1\" class=\"dataframe\">\n",
       "  <thead>\n",
       "    <tr style=\"text-align: right;\">\n",
       "      <th></th>\n",
       "      <th>dur</th>\n",
       "      <th>size</th>\n",
       "      <th>name</th>\n",
       "      <th>bw_mbps</th>\n",
       "    </tr>\n",
       "    <tr>\n",
       "      <th>trange</th>\n",
       "      <th></th>\n",
       "      <th></th>\n",
       "      <th></th>\n",
       "      <th></th>\n",
       "    </tr>\n",
       "  </thead>\n",
       "  <tbody>\n",
       "    <tr>\n",
       "      <th>7.0</th>\n",
       "      <td>1659155</td>\n",
       "      <td>23066560</td>\n",
       "      <td>11</td>\n",
       "      <td>13.258548</td>\n",
       "    </tr>\n",
       "    <tr>\n",
       "      <th>8.0</th>\n",
       "      <td>4282061</td>\n",
       "      <td>90169280</td>\n",
       "      <td>43</td>\n",
       "      <td>20.081948</td>\n",
       "    </tr>\n",
       "    <tr>\n",
       "      <th>13.0</th>\n",
       "      <td>1209128</td>\n",
       "      <td>10484800</td>\n",
       "      <td>5</td>\n",
       "      <td>8.269666</td>\n",
       "    </tr>\n",
       "    <tr>\n",
       "      <th>18.0</th>\n",
       "      <td>616307</td>\n",
       "      <td>2096960</td>\n",
       "      <td>1</td>\n",
       "      <td>3.244839</td>\n",
       "    </tr>\n",
       "  </tbody>\n",
       "</table>\n",
       "</div>"
      ],
      "text/plain": [
       "            dur      size  name    bw_mbps\n",
       "trange                                    \n",
       "7.0     1659155  23066560    11  13.258548\n",
       "8.0     4282061  90169280    43  20.081948\n",
       "13.0    1209128  10484800     5   8.269666\n",
       "18.0     616307   2096960     1   3.244839"
      ]
     },
     "execution_count": 29,
     "metadata": {},
     "output_type": "execute_result"
    }
   ],
   "source": [
    "broker_cb=analyzer.events.query(\"name == 'dyad_fetch_request_cb'\").groupby(\"trange\",\"tid\",\"pid\").agg({\"dur\":sum, \"size\":sum, \"name\":\"count\"}).groupby(\"trange\").agg({\"dur\":max, \"size\":sum, \"name\":sum})\n",
    "broker_cb[\"bw_mbps\"] = broker_cb[\"size\"] / 1024**2 / broker_cb[\"dur\"] * 1e6\n",
    "broker_cb.compute()"
   ]
  },
  {
   "cell_type": "code",
   "execution_count": 30,
   "id": "33cbe742",
   "metadata": {
    "ExecuteTime": {
     "end_time": "2024-01-24T22:11:13.193789Z",
     "start_time": "2024-01-24T22:11:12.963940Z"
    }
   },
   "outputs": [
    {
     "data": {
      "text/html": [
       "<div>\n",
       "<style scoped>\n",
       "    .dataframe tbody tr th:only-of-type {\n",
       "        vertical-align: middle;\n",
       "    }\n",
       "\n",
       "    .dataframe tbody tr th {\n",
       "        vertical-align: top;\n",
       "    }\n",
       "\n",
       "    .dataframe thead th {\n",
       "        text-align: right;\n",
       "    }\n",
       "</style>\n",
       "<table border=\"1\" class=\"dataframe\">\n",
       "  <thead>\n",
       "    <tr style=\"text-align: right;\">\n",
       "      <th></th>\n",
       "      <th>dur</th>\n",
       "      <th>size</th>\n",
       "      <th>name</th>\n",
       "      <th>bw_mbps</th>\n",
       "    </tr>\n",
       "    <tr>\n",
       "      <th>trange</th>\n",
       "      <th></th>\n",
       "      <th></th>\n",
       "      <th></th>\n",
       "      <th></th>\n",
       "    </tr>\n",
       "  </thead>\n",
       "  <tbody>\n",
       "    <tr>\n",
       "      <th>7.0</th>\n",
       "      <td>3197672</td>\n",
       "      <td>109041920</td>\n",
       "      <td>66</td>\n",
       "      <td>32.520683</td>\n",
       "    </tr>\n",
       "    <tr>\n",
       "      <th>8.0</th>\n",
       "      <td>26991219</td>\n",
       "      <td>945728960</td>\n",
       "      <td>492</td>\n",
       "      <td>33.415216</td>\n",
       "    </tr>\n",
       "    <tr>\n",
       "      <th>13.0</th>\n",
       "      <td>8600330</td>\n",
       "      <td>1857906560</td>\n",
       "      <td>891</td>\n",
       "      <td>206.019742</td>\n",
       "    </tr>\n",
       "    <tr>\n",
       "      <th>18.0</th>\n",
       "      <td>897264</td>\n",
       "      <td>1876779200</td>\n",
       "      <td>896</td>\n",
       "      <td>1994.770904</td>\n",
       "    </tr>\n",
       "    <tr>\n",
       "      <th>23.0</th>\n",
       "      <td>204336</td>\n",
       "      <td>1878876160</td>\n",
       "      <td>896</td>\n",
       "      <td>8769.066329</td>\n",
       "    </tr>\n",
       "    <tr>\n",
       "      <th>28.0</th>\n",
       "      <td>215677</td>\n",
       "      <td>1878876160</td>\n",
       "      <td>896</td>\n",
       "      <td>8307.960225</td>\n",
       "    </tr>\n",
       "  </tbody>\n",
       "</table>\n",
       "</div>"
      ],
      "text/plain": [
       "             dur        size  name      bw_mbps\n",
       "trange                                         \n",
       "7.0      3197672   109041920    66    32.520683\n",
       "8.0     26991219   945728960   492    33.415216\n",
       "13.0     8600330  1857906560   891   206.019742\n",
       "18.0      897264  1876779200   896  1994.770904\n",
       "23.0      204336  1878876160   896  8769.066329\n",
       "28.0      215677  1878876160   896  8307.960225"
      ]
     },
     "execution_count": 30,
     "metadata": {},
     "output_type": "execute_result"
    }
   ],
   "source": [
    "broker_cb=analyzer.events.query(\"name == 'dyad_consume'\").groupby(\"trange\",\"tid\",\"pid\").agg({\"dur\":sum, \"size\":sum, \"name\":\"count\"}).groupby(\"trange\").agg({\"dur\":max, \"size\":sum, \"name\":sum})\n",
    "broker_cb[\"bw_mbps\"] = broker_cb[\"size\"] / 1024**2 / broker_cb[\"dur\"] * 1e6\n",
    "broker_cb.compute()"
   ]
  },
  {
   "cell_type": "code",
   "execution_count": 31,
   "id": "d4f861b2",
   "metadata": {
    "ExecuteTime": {
     "end_time": "2024-01-24T20:00:48.901912Z",
     "start_time": "2024-01-24T20:00:47.782376Z"
    }
   },
   "outputs": [
    {
     "data": {
      "text/html": [
       "<div>\n",
       "<style scoped>\n",
       "    .dataframe tbody tr th:only-of-type {\n",
       "        vertical-align: middle;\n",
       "    }\n",
       "\n",
       "    .dataframe tbody tr th {\n",
       "        vertical-align: top;\n",
       "    }\n",
       "\n",
       "    .dataframe thead th {\n",
       "        text-align: right;\n",
       "    }\n",
       "</style>\n",
       "<table border=\"1\" class=\"dataframe\">\n",
       "  <thead>\n",
       "    <tr style=\"text-align: right;\">\n",
       "      <th></th>\n",
       "      <th>name</th>\n",
       "      <th>cat</th>\n",
       "      <th>pid</th>\n",
       "      <th>tid</th>\n",
       "      <th>ts</th>\n",
       "      <th>te</th>\n",
       "      <th>dur</th>\n",
       "      <th>tinterval</th>\n",
       "      <th>trange</th>\n",
       "      <th>hostname</th>\n",
       "      <th>compute_time</th>\n",
       "      <th>io_time</th>\n",
       "      <th>app_io_time</th>\n",
       "      <th>total_time</th>\n",
       "      <th>filename</th>\n",
       "      <th>phase</th>\n",
       "      <th>size</th>\n",
       "    </tr>\n",
       "  </thead>\n",
       "  <tbody>\n",
       "    <tr>\n",
       "      <th>5</th>\n",
       "      <td>DYADTorchDataset.worker_init</td>\n",
       "      <td>data_loader</td>\n",
       "      <td>0</td>\n",
       "      <td>3553042</td>\n",
       "      <td>0</td>\n",
       "      <td>1706064925269885</td>\n",
       "      <td>1706064925269885</td>\n",
       "      <td>&lt;NA&gt;</td>\n",
       "      <td>0.0</td>\n",
       "      <td>corona171</td>\n",
       "      <td>&lt;NA&gt;</td>\n",
       "      <td>&lt;NA&gt;</td>\n",
       "      <td>&lt;NA&gt;</td>\n",
       "      <td>0</td>\n",
       "      <td>&lt;NA&gt;</td>\n",
       "      <td>0</td>\n",
       "      <td>&lt;NA&gt;</td>\n",
       "    </tr>\n",
       "    <tr>\n",
       "      <th>5</th>\n",
       "      <td>DYADTorchDataset.worker_init</td>\n",
       "      <td>data_loader</td>\n",
       "      <td>0</td>\n",
       "      <td>3553108</td>\n",
       "      <td>0</td>\n",
       "      <td>1706064933245873</td>\n",
       "      <td>1706064933245873</td>\n",
       "      <td>&lt;NA&gt;</td>\n",
       "      <td>0.0</td>\n",
       "      <td>corona171</td>\n",
       "      <td>&lt;NA&gt;</td>\n",
       "      <td>&lt;NA&gt;</td>\n",
       "      <td>&lt;NA&gt;</td>\n",
       "      <td>0</td>\n",
       "      <td>&lt;NA&gt;</td>\n",
       "      <td>0</td>\n",
       "      <td>&lt;NA&gt;</td>\n",
       "    </tr>\n",
       "    <tr>\n",
       "      <th>5</th>\n",
       "      <td>DYADTorchDataset.worker_init</td>\n",
       "      <td>data_loader</td>\n",
       "      <td>0</td>\n",
       "      <td>3553683</td>\n",
       "      <td>0</td>\n",
       "      <td>1706064941981827</td>\n",
       "      <td>1706064941981827</td>\n",
       "      <td>&lt;NA&gt;</td>\n",
       "      <td>0.0</td>\n",
       "      <td>corona171</td>\n",
       "      <td>&lt;NA&gt;</td>\n",
       "      <td>&lt;NA&gt;</td>\n",
       "      <td>&lt;NA&gt;</td>\n",
       "      <td>0</td>\n",
       "      <td>&lt;NA&gt;</td>\n",
       "      <td>0</td>\n",
       "      <td>&lt;NA&gt;</td>\n",
       "    </tr>\n",
       "    <tr>\n",
       "      <th>5</th>\n",
       "      <td>DYADTorchDataset.worker_init</td>\n",
       "      <td>data_loader</td>\n",
       "      <td>0</td>\n",
       "      <td>3554816</td>\n",
       "      <td>0</td>\n",
       "      <td>1706064960228144</td>\n",
       "      <td>1706064960228144</td>\n",
       "      <td>&lt;NA&gt;</td>\n",
       "      <td>0.0</td>\n",
       "      <td>corona171</td>\n",
       "      <td>&lt;NA&gt;</td>\n",
       "      <td>&lt;NA&gt;</td>\n",
       "      <td>&lt;NA&gt;</td>\n",
       "      <td>0</td>\n",
       "      <td>&lt;NA&gt;</td>\n",
       "      <td>0</td>\n",
       "      <td>&lt;NA&gt;</td>\n",
       "    </tr>\n",
       "    <tr>\n",
       "      <th>5</th>\n",
       "      <td>DYADTorchDataset.worker_init</td>\n",
       "      <td>data_loader</td>\n",
       "      <td>0</td>\n",
       "      <td>3554884</td>\n",
       "      <td>0</td>\n",
       "      <td>1706064968618717</td>\n",
       "      <td>1706064968618717</td>\n",
       "      <td>&lt;NA&gt;</td>\n",
       "      <td>0.0</td>\n",
       "      <td>corona171</td>\n",
       "      <td>&lt;NA&gt;</td>\n",
       "      <td>&lt;NA&gt;</td>\n",
       "      <td>&lt;NA&gt;</td>\n",
       "      <td>0</td>\n",
       "      <td>&lt;NA&gt;</td>\n",
       "      <td>0</td>\n",
       "      <td>&lt;NA&gt;</td>\n",
       "    </tr>\n",
       "  </tbody>\n",
       "</table>\n",
       "</div>"
      ],
      "text/plain": [
       "                           name          cat  pid      tid  ts  \\\n",
       "5  DYADTorchDataset.worker_init  data_loader    0  3553042   0   \n",
       "5  DYADTorchDataset.worker_init  data_loader    0  3553108   0   \n",
       "5  DYADTorchDataset.worker_init  data_loader    0  3553683   0   \n",
       "5  DYADTorchDataset.worker_init  data_loader    0  3554816   0   \n",
       "5  DYADTorchDataset.worker_init  data_loader    0  3554884   0   \n",
       "\n",
       "                 te               dur  tinterval  trange   hostname  \\\n",
       "5  1706064925269885  1706064925269885       <NA>     0.0  corona171   \n",
       "5  1706064933245873  1706064933245873       <NA>     0.0  corona171   \n",
       "5  1706064941981827  1706064941981827       <NA>     0.0  corona171   \n",
       "5  1706064960228144  1706064960228144       <NA>     0.0  corona171   \n",
       "5  1706064968618717  1706064968618717       <NA>     0.0  corona171   \n",
       "\n",
       "   compute_time  io_time  app_io_time  total_time filename  phase  size  \n",
       "5          <NA>     <NA>         <NA>           0     <NA>      0  <NA>  \n",
       "5          <NA>     <NA>         <NA>           0     <NA>      0  <NA>  \n",
       "5          <NA>     <NA>         <NA>           0     <NA>      0  <NA>  \n",
       "5          <NA>     <NA>         <NA>           0     <NA>      0  <NA>  \n",
       "5          <NA>     <NA>         <NA>           0     <NA>      0  <NA>  "
      ]
     },
     "execution_count": 31,
     "metadata": {},
     "output_type": "execute_result"
    }
   ],
   "source": [
    "analyzer.events.sort_values(\"ts\").head()"
   ]
  },
  {
   "cell_type": "code",
   "execution_count": 101,
   "id": "3181e9d5-7203-48a9-9937-6e0e11062aa2",
   "metadata": {},
   "outputs": [
    {
     "data": {
      "text/plain": [
       "name\n",
       "__fxstat64                      16.374204\n",
       "__xstat64                        0.361658\n",
       "close                           13.684002\n",
       "cpu-gpu-transfer                 0.000000\n",
       "lseek64                          0.204211\n",
       "model-compute-backward-prop      0.000000\n",
       "model-compute-forward-prop       0.000000\n",
       "open64                          15.335467\n",
       "opendir                          1.125259\n",
       "read                           570.389110\n",
       "real_IO.iter                     0.000000\n",
       "real_IO.yield                    0.000000\n",
       "Name: io_time, dtype: double[pyarrow]"
      ]
     },
     "execution_count": 101,
     "metadata": {},
     "output_type": "execute_result"
    }
   ],
   "source": [
    "analyzer.events.groupby([\"trange\",\"pid\",\"tid\", \"name\"])[\"io_time\"].sum().groupby([\"trange\", \"name\"]).max().groupby([ \"name\"]).sum().compute() / 1e6"
   ]
  },
  {
   "cell_type": "code",
   "execution_count": 102,
   "id": "fcc4be8e-889b-4112-a2c4-11b546f9c6d5",
   "metadata": {
    "scrolled": true
   },
   "outputs": [
    {
     "data": {
      "text/plain": [
       "name\n",
       "__fxstat64                     1274819\n",
       "__xstat64                        12515\n",
       "close                          1274797\n",
       "cpu-gpu-transfer                     0\n",
       "lseek64                        2639837\n",
       "model-compute-backward-prop          0\n",
       "model-compute-forward-prop           0\n",
       "open64                         1274822\n",
       "opendir                          12523\n",
       "read                           2549801\n",
       "real_IO.iter                         0\n",
       "real_IO.yield                        0\n",
       "Name: io_time, dtype: int64[pyarrow]"
      ]
     },
     "execution_count": 102,
     "metadata": {},
     "output_type": "execute_result"
    }
   ],
   "source": [
    "analyzer.events.groupby([\"trange\",\"pid\",\"tid\", \"name\"])[\"io_time\"].count().groupby([\"trange\", \"name\"]).sum().groupby([ \"name\"]).sum().compute()"
   ]
  },
  {
   "cell_type": "code",
   "execution_count": 103,
   "id": "5932c31e-931d-4c99-b75c-abe0e53f029a",
   "metadata": {},
   "outputs": [
    {
     "name": "stderr",
     "output_type": "stream",
     "text": [
      "/usr/WS2/haridev/venvs/dlio_profiler_venv/lib/python3.9/site-packages/dask/dataframe/shuffle.py:1032: FutureWarning: Series.fillna with 'method' is deprecated and will raise in a future version. Use obj.ffill() or obj.bfill() instead.\n",
      "  mins = mins.fillna(method=\"bfill\").tolist()\n",
      "/usr/WS2/haridev/venvs/dlio_profiler_venv/lib/python3.9/site-packages/dask/dataframe/shuffle.py:1033: FutureWarning: Series.fillna with 'method' is deprecated and will raise in a future version. Use obj.ffill() or obj.bfill() instead.\n",
      "  maxes = maxes.fillna(method=\"bfill\").tolist()\n"
     ]
    }
   ],
   "source": [
    "timeline = analyzer.plots._create_timeline( analyzer.events).compute()"
   ]
  },
  {
   "cell_type": "code",
   "execution_count": 104,
   "id": "759b786c-b9e9-45bb-9fda-ad987350e39d",
   "metadata": {},
   "outputs": [
    {
     "data": {
      "text/html": [
       "<div>\n",
       "<style scoped>\n",
       "    .dataframe tbody tr th:only-of-type {\n",
       "        vertical-align: middle;\n",
       "    }\n",
       "\n",
       "    .dataframe tbody tr th {\n",
       "        vertical-align: top;\n",
       "    }\n",
       "\n",
       "    .dataframe thead th {\n",
       "        text-align: right;\n",
       "    }\n",
       "</style>\n",
       "<table border=\"1\" class=\"dataframe\">\n",
       "  <thead>\n",
       "    <tr style=\"text-align: right;\">\n",
       "      <th></th>\n",
       "      <th>phase</th>\n",
       "      <th>index</th>\n",
       "      <th>size</th>\n",
       "      <th>io_time</th>\n",
       "      <th>app_io_time</th>\n",
       "    </tr>\n",
       "    <tr>\n",
       "      <th>trange</th>\n",
       "      <th></th>\n",
       "      <th></th>\n",
       "      <th></th>\n",
       "      <th></th>\n",
       "      <th></th>\n",
       "    </tr>\n",
       "  </thead>\n",
       "  <tbody>\n",
       "    <tr>\n",
       "      <th>0.0</th>\n",
       "      <td>2</td>\n",
       "      <td>57203</td>\n",
       "      <td>3286277758</td>\n",
       "      <td>20981624</td>\n",
       "      <td>0</td>\n",
       "    </tr>\n",
       "    <tr>\n",
       "      <th>1.0</th>\n",
       "      <td>2</td>\n",
       "      <td>78084</td>\n",
       "      <td>4536723584</td>\n",
       "      <td>25873271</td>\n",
       "      <td>0</td>\n",
       "    </tr>\n",
       "    <tr>\n",
       "      <th>2.0</th>\n",
       "      <td>2</td>\n",
       "      <td>79012</td>\n",
       "      <td>4498540005</td>\n",
       "      <td>25894710</td>\n",
       "      <td>0</td>\n",
       "    </tr>\n",
       "    <tr>\n",
       "      <th>3.0</th>\n",
       "      <td>2</td>\n",
       "      <td>83955</td>\n",
       "      <td>4835225564</td>\n",
       "      <td>25658236</td>\n",
       "      <td>0</td>\n",
       "    </tr>\n",
       "    <tr>\n",
       "      <th>4.0</th>\n",
       "      <td>2</td>\n",
       "      <td>85769</td>\n",
       "      <td>4902985343</td>\n",
       "      <td>25478400</td>\n",
       "      <td>0</td>\n",
       "    </tr>\n",
       "    <tr>\n",
       "      <th>...</th>\n",
       "      <td>...</td>\n",
       "      <td>...</td>\n",
       "      <td>...</td>\n",
       "      <td>...</td>\n",
       "      <td>...</td>\n",
       "    </tr>\n",
       "    <tr>\n",
       "      <th>23.0</th>\n",
       "      <td>3</td>\n",
       "      <td>0</td>\n",
       "      <td>0</td>\n",
       "      <td>0</td>\n",
       "      <td>30128731</td>\n",
       "    </tr>\n",
       "    <tr>\n",
       "      <th>24.0</th>\n",
       "      <td>1</td>\n",
       "      <td>0</td>\n",
       "      <td>0</td>\n",
       "      <td>0</td>\n",
       "      <td>0</td>\n",
       "    </tr>\n",
       "    <tr>\n",
       "      <th>24.0</th>\n",
       "      <td>3</td>\n",
       "      <td>0</td>\n",
       "      <td>0</td>\n",
       "      <td>0</td>\n",
       "      <td>30003118</td>\n",
       "    </tr>\n",
       "    <tr>\n",
       "      <th>25.0</th>\n",
       "      <td>1</td>\n",
       "      <td>0</td>\n",
       "      <td>0</td>\n",
       "      <td>0</td>\n",
       "      <td>0</td>\n",
       "    </tr>\n",
       "    <tr>\n",
       "      <th>25.0</th>\n",
       "      <td>3</td>\n",
       "      <td>0</td>\n",
       "      <td>0</td>\n",
       "      <td>0</td>\n",
       "      <td>10868765</td>\n",
       "    </tr>\n",
       "  </tbody>\n",
       "</table>\n",
       "<p>78 rows × 5 columns</p>\n",
       "</div>"
      ],
      "text/plain": [
       "        phase  index        size   io_time  app_io_time\n",
       "trange                                                 \n",
       "0.0         2  57203  3286277758  20981624            0\n",
       "1.0         2  78084  4536723584  25873271            0\n",
       "2.0         2  79012  4498540005  25894710            0\n",
       "3.0         2  83955  4835225564  25658236            0\n",
       "4.0         2  85769  4902985343  25478400            0\n",
       "...       ...    ...         ...       ...          ...\n",
       "23.0        3      0           0         0     30128731\n",
       "24.0        1      0           0         0            0\n",
       "24.0        3      0           0         0     30003118\n",
       "25.0        1      0           0         0            0\n",
       "25.0        3      0           0         0     10868765\n",
       "\n",
       "[78 rows x 5 columns]"
      ]
     },
     "execution_count": 104,
     "metadata": {},
     "output_type": "execute_result"
    }
   ],
   "source": [
    "timeline"
   ]
  },
  {
   "cell_type": "code",
   "execution_count": null,
   "id": "1f4f0f32-10f8-44ec-8233-ff265800096a",
   "metadata": {},
   "outputs": [],
   "source": []
  },
  {
   "cell_type": "code",
   "execution_count": 23,
   "id": "ad2d7964-1ef7-4bc3-808f-8aad6e1d6d8c",
   "metadata": {
    "ExecuteTime": {
     "end_time": "2024-01-24T20:30:14.824955Z",
     "start_time": "2024-01-24T20:30:12.636950Z"
    },
    "scrolled": true
   },
   "outputs": [
    {
     "data": {
      "image/png": "[encoded data removed]",
      "text/plain": [
       "<Figure size 800x300 with 2 Axes>"
      ]
     },
     "metadata": {},
     "output_type": "display_data"
    }
   ],
   "source": [
    "fig, ax1, ax2 = analyzer.plots.time_bw_timeline(\n",
    "    bw_unit='gb',\n",
    "    figsize=(8, 3),\n",
    "    line1_label='POSIX I/O Time',\n",
    "    line2_label='POSIX I/O Bandwidth',\n",
    "    time_col='io_time',\n",
    "    x_num_ticks=8,\n",
    "    y_num_ticks=5,\n",
    ")"
   ]
  },
  {
   "cell_type": "code",
   "execution_count": 106,
   "id": "479f5f05-1102-4ec1-bdfe-966b7f2a787b",
   "metadata": {},
   "outputs": [],
   "source": [
    "fig.savefig(f'{app_name}_posix_io_time.pdf', format='pdf', bbox_inches='tight')"
   ]
  },
  {
   "cell_type": "code",
   "execution_count": 24,
   "id": "f319b292-e247-41b7-b9e3-7f9592ad1d12",
   "metadata": {
    "ExecuteTime": {
     "end_time": "2024-01-24T20:30:30.849661Z",
     "start_time": "2024-01-24T20:30:29.255084Z"
    },
    "scrolled": true
   },
   "outputs": [
    {
     "ename": "TypeError",
     "evalue": "boolean value of NA is ambiguous",
     "output_type": "error",
     "traceback": [
      "\u001b[0;31m---------------------------------------------------------------------------\u001b[0m",
      "\u001b[0;31mTypeError\u001b[0m                                 Traceback (most recent call last)",
      "Cell \u001b[0;32mIn[24], line 1\u001b[0m\n\u001b[0;32m----> 1\u001b[0m fig, ax1, ax2 \u001b[38;5;241m=\u001b[39m \u001b[43manalyzer\u001b[49m\u001b[38;5;241;43m.\u001b[39;49m\u001b[43mplots\u001b[49m\u001b[38;5;241;43m.\u001b[39;49m\u001b[43mtime_bw_timeline\u001b[49m\u001b[43m(\u001b[49m\n\u001b[1;32m      2\u001b[0m \u001b[43m    \u001b[49m\u001b[43mbw_unit\u001b[49m\u001b[38;5;241;43m=\u001b[39;49m\u001b[38;5;124;43m'\u001b[39;49m\u001b[38;5;124;43mgb\u001b[39;49m\u001b[38;5;124;43m'\u001b[39;49m\u001b[43m,\u001b[49m\n\u001b[1;32m      3\u001b[0m \u001b[43m    \u001b[49m\u001b[43mfigsize\u001b[49m\u001b[38;5;241;43m=\u001b[39;49m\u001b[43m(\u001b[49m\u001b[38;5;241;43m8\u001b[39;49m\u001b[43m,\u001b[49m\u001b[43m \u001b[49m\u001b[38;5;241;43m3\u001b[39;49m\u001b[43m)\u001b[49m\u001b[43m,\u001b[49m\n\u001b[1;32m      4\u001b[0m \u001b[43m    \u001b[49m\u001b[43mline1_label\u001b[49m\u001b[38;5;241;43m=\u001b[39;49m\u001b[38;5;124;43m'\u001b[39;49m\u001b[38;5;124;43mApp. I/O Time\u001b[39;49m\u001b[38;5;124;43m'\u001b[39;49m\u001b[43m,\u001b[49m\n\u001b[1;32m      5\u001b[0m \u001b[43m    \u001b[49m\u001b[43mline2_label\u001b[49m\u001b[38;5;241;43m=\u001b[39;49m\u001b[38;5;124;43m'\u001b[39;49m\u001b[38;5;124;43mApp. I/O Bandwidth\u001b[39;49m\u001b[38;5;124;43m'\u001b[39;49m\u001b[43m,\u001b[49m\n\u001b[1;32m      6\u001b[0m \u001b[43m    \u001b[49m\u001b[43mtime_col\u001b[49m\u001b[38;5;241;43m=\u001b[39;49m\u001b[38;5;124;43m'\u001b[39;49m\u001b[38;5;124;43mapp_io_time\u001b[39;49m\u001b[38;5;124;43m'\u001b[39;49m\u001b[43m,\u001b[49m\n\u001b[1;32m      7\u001b[0m \u001b[43m    \u001b[49m\u001b[43mx_num_ticks\u001b[49m\u001b[38;5;241;43m=\u001b[39;49m\u001b[38;5;241;43m8\u001b[39;49m\u001b[43m,\u001b[49m\n\u001b[1;32m      8\u001b[0m \u001b[43m    \u001b[49m\u001b[43my_num_ticks\u001b[49m\u001b[38;5;241;43m=\u001b[39;49m\u001b[38;5;241;43m5\u001b[39;49m\u001b[43m,\u001b[49m\n\u001b[1;32m      9\u001b[0m \u001b[43m)\u001b[49m\n\u001b[1;32m     10\u001b[0m ax2\u001b[38;5;241m.\u001b[39mset_visible(\u001b[38;5;28;01mFalse\u001b[39;00m)\n",
      "File \u001b[0;32m/usr/WS2/haridev/dyad/env/python/lib/python3.9/site-packages/dlp_analyzer/plots.py:70\u001b[0m, in \u001b[0;36mDLPAnalyzerPlots.time_bw_timeline\u001b[0;34m(self, time_col, figsize, bw_unit, line1_label, line2_label, xlabel, y1label, y2label, x_num_ticks, y_num_ticks)\u001b[0m\n\u001b[1;32m     67\u001b[0m y2_max \u001b[38;5;241m=\u001b[39m np\u001b[38;5;241m.\u001b[39mmax([timeline\u001b[38;5;241m.\u001b[39mquery(\u001b[38;5;124mf\u001b[39m\u001b[38;5;124m\"\u001b[39m\u001b[38;5;124mphase == \u001b[39m\u001b[38;5;132;01m{\u001b[39;00mphase\u001b[38;5;132;01m}\u001b[39;00m\u001b[38;5;124m\"\u001b[39m)[\u001b[38;5;124mf\u001b[39m\u001b[38;5;124m\"\u001b[39m\u001b[38;5;132;01m{\u001b[39;00mtime_col\u001b[38;5;132;01m}\u001b[39;00m\u001b[38;5;124m_bw\u001b[39m\u001b[38;5;124m\"\u001b[39m]\u001b[38;5;241m.\u001b[39mmax()])\n\u001b[1;32m     69\u001b[0m has_y2 \u001b[38;5;241m=\u001b[39m \u001b[38;5;28;01mFalse\u001b[39;00m\n\u001b[0;32m---> 70\u001b[0m \u001b[38;5;28;01mif\u001b[39;00m y2_max \u001b[38;5;241m>\u001b[39m \u001b[38;5;241m0\u001b[39m:\n\u001b[1;32m     71\u001b[0m     timeline\u001b[38;5;241m.\u001b[39mquery(\u001b[38;5;124mf\u001b[39m\u001b[38;5;124m\"\u001b[39m\u001b[38;5;124mphase == \u001b[39m\u001b[38;5;132;01m{\u001b[39;00mphase\u001b[38;5;132;01m}\u001b[39;00m\u001b[38;5;124m\"\u001b[39m)\u001b[38;5;241m.\u001b[39mplot\u001b[38;5;241m.\u001b[39mline(ax\u001b[38;5;241m=\u001b[39max2, x\u001b[38;5;241m=\u001b[39m\u001b[38;5;124m'\u001b[39m\u001b[38;5;124mseconds\u001b[39m\u001b[38;5;124m'\u001b[39m, y\u001b[38;5;241m=\u001b[39m\u001b[38;5;124mf\u001b[39m\u001b[38;5;124m\"\u001b[39m\u001b[38;5;132;01m{\u001b[39;00mtime_col\u001b[38;5;132;01m}\u001b[39;00m\u001b[38;5;124m_bw\u001b[39m\u001b[38;5;124m\"\u001b[39m, linestyle\u001b[38;5;241m=\u001b[39m\u001b[38;5;124m'\u001b[39m\u001b[38;5;124mdashed\u001b[39m\u001b[38;5;124m'\u001b[39m,\n\u001b[1;32m     72\u001b[0m                        alpha\u001b[38;5;241m=\u001b[39m\u001b[38;5;241m0.8\u001b[39m, color\u001b[38;5;241m=\u001b[39m\u001b[38;5;124m'\u001b[39m\u001b[38;5;124mC1\u001b[39m\u001b[38;5;124m'\u001b[39m, label\u001b[38;5;241m=\u001b[39mline2_label)\n\u001b[1;32m     73\u001b[0m     y2_min \u001b[38;5;241m=\u001b[39m np\u001b[38;5;241m.\u001b[39mmin([timeline[\u001b[38;5;124mf\u001b[39m\u001b[38;5;124m\"\u001b[39m\u001b[38;5;132;01m{\u001b[39;00mtime_col\u001b[38;5;132;01m}\u001b[39;00m\u001b[38;5;124m_bw\u001b[39m\u001b[38;5;124m\"\u001b[39m]\u001b[38;5;241m.\u001b[39mmin()])\n",
      "File \u001b[0;32mmissing.pyx:419\u001b[0m, in \u001b[0;36mpandas._libs.missing.NAType.__bool__\u001b[0;34m()\u001b[0m\n",
      "\u001b[0;31mTypeError\u001b[0m: boolean value of NA is ambiguous"
     ]
    },
    {
     "data": {
      "image/png": "[encoded data removed]",
      "text/plain": [
       "<Figure size 800x300 with 2 Axes>"
      ]
     },
     "metadata": {},
     "output_type": "display_data"
    }
   ],
   "source": [
    "fig, ax1, ax2 = analyzer.plots.time_bw_timeline(\n",
    "    bw_unit='gb',\n",
    "    figsize=(8, 3),\n",
    "    line1_label='App. I/O Time',\n",
    "    line2_label='App. I/O Bandwidth',\n",
    "    time_col='app_io_time',\n",
    "    x_num_ticks=8,\n",
    "    y_num_ticks=5,\n",
    ")\n",
    "ax2.set_visible(False)"
   ]
  },
  {
   "cell_type": "code",
   "execution_count": 108,
   "id": "d8998e34-ad66-4fca-a7e9-45c4f7015862",
   "metadata": {},
   "outputs": [],
   "source": [
    "fig.savefig(f'{app_name}_app_io_time.pdf', format='pdf', bbox_inches='tight')"
   ]
  },
  {
   "cell_type": "code",
   "execution_count": 25,
   "id": "771c4a6f-88fc-4929-ab48-f87bf6de6098",
   "metadata": {
    "ExecuteTime": {
     "end_time": "2024-01-24T20:30:41.882632Z",
     "start_time": "2024-01-24T20:30:40.774358Z"
    }
   },
   "outputs": [
    {
     "data": {
      "image/png": "[encoded data removed]",
      "text/plain": [
       "<Figure size 800x300 with 1 Axes>"
      ]
     },
     "metadata": {},
     "output_type": "display_data"
    }
   ],
   "source": [
    "fig, ax = analyzer.plots.xfer_size_timeline(\n",
    "    figsize=(8, 3),\n",
    "    unit='kb',\n",
    "    x_num_ticks=8,\n",
    ")"
   ]
  },
  {
   "cell_type": "code",
   "execution_count": 110,
   "id": "d8f5b274-5727-479f-838c-dca3abd094f3",
   "metadata": {},
   "outputs": [],
   "source": [
    "fig.savefig(f'{app_name}_xfer_size.pdf', format='pdf', bbox_inches='tight')"
   ]
  },
  {
   "cell_type": "code",
   "execution_count": 43,
   "id": "9284c27d-598a-419d-a667-c8816ef3fb71",
   "metadata": {},
   "outputs": [
    {
     "data": {
      "text/plain": [
       "name\n",
       "__fxstat64        NaN\n",
       "__xstat64         NaN\n",
       "close             NaN\n",
       "lseek64           NaN\n",
       "open64            NaN\n",
       "opendir           NaN\n",
       "read          0.05467\n",
       "Name: size, dtype: double[pyarrow]"
      ]
     },
     "execution_count": 43,
     "metadata": {},
     "output_type": "execute_result"
    }
   ],
   "source": [
    "analyzer.events.query(\"cat == 'POSIX'\").groupby(\"name\")[\"size\"].mean().compute() / (1024**2)"
   ]
  },
  {
   "cell_type": "code",
   "execution_count": 44,
   "id": "e52cb7e7-5d51-4126-888b-ee847222b988",
   "metadata": {},
   "outputs": [
    {
     "data": {
      "text/plain": [
       "name\n",
       "__fxstat64     14.238569\n",
       "__xstat64       0.361658\n",
       "close          11.435908\n",
       "lseek64         0.184910\n",
       "open64         13.368323\n",
       "opendir         1.125259\n",
       "read          533.845061\n",
       "Name: io_time, dtype: double[pyarrow]"
      ]
     },
     "execution_count": 44,
     "metadata": {},
     "output_type": "execute_result"
    }
   ],
   "source": [
    "analyzer.events.query(\"cat == 'POSIX'\").groupby([\"trange\",\"pid\",\"tid\",\"name\"])[\"io_time\"].sum().groupby([\"trange\",\"name\"]).max().groupby(\"name\").sum().compute() / 1e6"
   ]
  },
  {
   "cell_type": "code",
   "execution_count": 45,
   "id": "f446524b-6ebb-496f-b595-9f0456fce540",
   "metadata": {},
   "outputs": [
    {
     "data": {
      "text/plain": [
       "io_time       min          0\n",
       "              max    3614661\n",
       "compute_time  min        255\n",
       "              max    3313428\n",
       "app_io_time   min         26\n",
       "              max    9089266\n",
       "dtype: uint64[pyarrow]"
      ]
     },
     "execution_count": 45,
     "metadata": {},
     "output_type": "execute_result"
    }
   ],
   "source": [
    "val = analyzer.events.groupby([\"trange\"]).agg({\"io_time\":[min,max],\"compute_time\":[min,max],\"app_io_time\":[min,max]}).sum().compute()\n",
    "val"
   ]
  },
  {
   "cell_type": "code",
   "execution_count": 46,
   "id": "251dad2f-2e57-4473-bdf2-0a3ab1c4813e",
   "metadata": {},
   "outputs": [
    {
     "data": {
      "text/plain": [
       "9089266"
      ]
     },
     "execution_count": 46,
     "metadata": {},
     "output_type": "execute_result"
    }
   ],
   "source": [
    "val = analyzer.events[\"app_io_time\"].max().compute()\n",
    "val"
   ]
  },
  {
   "cell_type": "code",
   "execution_count": 47,
   "id": "58dfba53-d7e2-4370-a446-e57de17d17d5",
   "metadata": {},
   "outputs": [
    {
     "data": {
      "text/plain": [
       "761.167636"
      ]
     },
     "execution_count": 47,
     "metadata": {},
     "output_type": "execute_result"
    }
   ],
   "source": [
    "import dask\n",
    "val1, val2 = dask.compute(analyzer.events[\"ts\"].min() /1e6 , analyzer.events[\"ts\"].max()/1e6)\n",
    "val2 - val1"
   ]
  },
  {
   "cell_type": "code",
   "execution_count": 48,
   "id": "556446aa-52a0-4bd0-b650-ab6a9c4ed68c",
   "metadata": {},
   "outputs": [
    {
     "data": {
      "text/plain": [
       "0    x3006c0s13b0n0\n",
       "Name: hostname, dtype: string"
      ]
     },
     "execution_count": 48,
     "metadata": {},
     "output_type": "execute_result"
    }
   ],
   "source": [
    "analyzer.events[\"hostname\"].unique().compute()[:2]"
   ]
  },
  {
   "cell_type": "code",
   "execution_count": 49,
   "id": "42c8fafb-8354-466e-a12b-7d5e41e17c31",
   "metadata": {},
   "outputs": [
    {
     "data": {
      "text/plain": [
       "4.01724"
      ]
     },
     "execution_count": 49,
     "metadata": {},
     "output_type": "execute_result"
    }
   ],
   "source": [
    "analyzer.events.query(\"cat == 'POSIX'\").groupby([\"trange\",\"name\"])[\"dur\"].max().sum().compute() / 1e6"
   ]
  },
  {
   "cell_type": "code",
   "execution_count": 50,
   "id": "fce6590b-20e9-4dff-9cde-7bdc4c9d714a",
   "metadata": {},
   "outputs": [
    {
     "data": {
      "text/plain": [
       "0.0"
      ]
     },
     "execution_count": 50,
     "metadata": {},
     "output_type": "execute_result"
    }
   ],
   "source": [
    "analyzer.events.query(\"name == 'open'\").groupby(\"trange\")[\"dur\"].max().sum().compute() / 1e6"
   ]
  },
  {
   "cell_type": "code",
   "execution_count": 51,
   "id": "53cfa467-4b5c-4a2f-bff3-196dd3d92225",
   "metadata": {},
   "outputs": [
    {
     "data": {
      "text/plain": [
       "cat                      name                       \n",
       "POSIX                    __fxstat64                       444448241\n",
       "                         __xstat64                          1041137\n",
       "                         close                            342150487\n",
       "                         lseek64                            5377747\n",
       "                         open64                           417437820\n",
       "                         opendir                            3807348\n",
       "                         read                           16581944325\n",
       "IO                       real_IO.iter                     311363925\n",
       "                         real_IO.yield                   2708610270\n",
       "communication-except-io  cpu-gpu-transfer                  37165103\n",
       "compute                  model-compute-backward-prop      444288066\n",
       "                         model-compute-forward-prop        50921978\n",
       "Name: dur, dtype: uint64[pyarrow]"
      ]
     },
     "execution_count": 51,
     "metadata": {},
     "output_type": "execute_result"
    }
   ],
   "source": [
    "analyzer.events.groupby([\"cat\",\"name\"])[\"dur\"].sum().compute()"
   ]
  },
  {
   "cell_type": "code",
   "execution_count": 52,
   "id": "80672c5c-5a66-4d22-88b6-c97102ff5563",
   "metadata": {},
   "outputs": [
    {
     "data": {
      "text/plain": [
       "(0.9911281578947368,\n",
       " 0.26911763157894736,\n",
       " 0.28428078947368424,\n",
       " 0.04696078947368421,\n",
       " 0.371635)"
      ]
     },
     "execution_count": 52,
     "metadata": {},
     "output_type": "execute_result"
    }
   ],
   "source": [
    "3766287/3.8/1e6, 1022647/3.8/1e6, 1080267/3.8/1e6, 178451/3.8/1e6, (1259124+153089)/3.8/1e6"
   ]
  },
  {
   "cell_type": "code",
   "execution_count": null,
   "id": "0d3d86e7-9dc3-4256-b843-700179459b19",
   "metadata": {},
   "outputs": [],
   "source": []
  }
 ],
 "metadata": {
  "kernelspec": {
   "display_name": "dyad dlio",
   "language": "python",
   "name": "dyad_dlio"
  },
  "language_info": {
   "codemirror_mode": {
    "name": "ipython",
    "version": 3
   },
   "file_extension": ".py",
   "mimetype": "text/x-python",
   "name": "python",
   "nbconvert_exporter": "python",
   "pygments_lexer": "ipython3",
   "version": "3.9.12"
  },
  "varInspector": {
   "cols": {
    "lenName": 16,
    "lenType": 16,
    "lenVar": 40
   },
   "kernels_config": {
    "python": {
     "delete_cmd_postfix": "",
     "delete_cmd_prefix": "del ",
     "library": "var_list.py",
     "varRefreshCmd": "print(var_dic_list())"
    },
    "r": {
     "delete_cmd_postfix": ") ",
     "delete_cmd_prefix": "rm(",
     "library": "var_list.r",
     "varRefreshCmd": "cat(var_dic_list()) "
    }
   },
   "types_to_exclude": [
    "module",
    "function",
    "builtin_function_or_method",
    "instance",
    "_Feature"
   ],
   "window_display": false
  },
  "widgets": {
   "application/vnd.jupyter.widget-state+json": {
    "state": {},
    "version_major": 2,
    "version_minor": 0
   }
  }
 },
 "nbformat": 4,
 "nbformat_minor": 5
}
