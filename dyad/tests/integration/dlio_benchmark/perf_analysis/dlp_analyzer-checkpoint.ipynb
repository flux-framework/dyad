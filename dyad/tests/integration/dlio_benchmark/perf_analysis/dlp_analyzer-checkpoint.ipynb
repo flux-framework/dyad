{
 "cells": [
  {
   "cell_type": "code",
   "execution_count": 1,
   "id": "86ed50dc-d4d6-4e78-be69-1d55b8362a46",
   "metadata": {
    "ExecuteTime": {
     "end_time": "2024-01-29T07:14:45.521145Z",
     "start_time": "2024-01-29T07:14:45.495862Z"
    },
    "scrolled": true
   },
   "outputs": [],
   "source": [
    "%load_ext autoreload"
   ]
  },
  {
   "cell_type": "code",
   "execution_count": 2,
   "id": "93bc48a5-30a9-4108-88a6-59861bddd0ce",
   "metadata": {
    "ExecuteTime": {
     "end_time": "2024-01-29T07:14:45.528354Z",
     "start_time": "2024-01-29T07:14:45.524654Z"
    }
   },
   "outputs": [],
   "source": [
    "%autoreload 2"
   ]
  },
  {
   "cell_type": "code",
   "execution_count": 3,
   "id": "4a47492d-40d0-4dea-b1a2-aa1f083239e3",
   "metadata": {
    "ExecuteTime": {
     "end_time": "2024-01-29T07:14:46.371271Z",
     "start_time": "2024-01-29T07:14:45.530925Z"
    }
   },
   "outputs": [
    {
     "name": "stdout",
     "output_type": "stream",
     "text": [
      "/usr/WS2/haridev/dyad/env/python/lib/python3.9/site-packages/yaml/__init__.py\n"
     ]
    }
   ],
   "source": [
    "import json\n",
    "import os\n",
    "import yaml\n",
    "print(yaml.__file__)\n",
    "from pathlib import Path\n",
    "from dask.distributed import Client\n",
    "import dask"
   ]
  },
  {
   "cell_type": "code",
   "execution_count": 4,
   "id": "7c006011",
   "metadata": {
    "ExecuteTime": {
     "end_time": "2024-01-29T07:14:46.397739Z",
     "start_time": "2024-01-29T07:14:46.375363Z"
    }
   },
   "outputs": [],
   "source": [
    "use_local=True"
   ]
  },
  {
   "cell_type": "code",
   "execution_count": 5,
   "id": "ef1dcd21-7001-47d4-b0e0-b9460b86556d",
   "metadata": {
    "ExecuteTime": {
     "end_time": "2024-01-29T07:14:46.423805Z",
     "start_time": "2024-01-29T07:14:46.400214Z"
    }
   },
   "outputs": [],
   "source": [
    "if not use_local:\n",
    "    with open(f'~/.dlio_profiler/configuration.yaml', 'r') as file:\n",
    "        dlp_yaml = yaml.safe_load(file)\n",
    "        app_root = dlp_yaml[\"app\"]\n",
    "else:\n",
    "    app_root = str(Path(os.getcwd()).parent.parent)"
   ]
  },
  {
   "cell_type": "code",
   "execution_count": 6,
   "id": "c310a43c-006c-4c36-9d54-d7056e9c0519",
   "metadata": {
    "ExecuteTime": {
     "end_time": "2024-01-29T07:14:46.454843Z",
     "start_time": "2024-01-29T07:14:46.426548Z"
    }
   },
   "outputs": [
    {
     "data": {
      "text/plain": [
       "['/usr/WS2/haridev/dyad/tests/integration',\n",
       " '/usr/WS2/haridev/dyad/tests/integration/dlio_benchmark/perf_analysis',\n",
       " '/collab/usr/gapps/python/build/spack-toss4.1/var/spack/environments/python/._view/75prb56irmif5ejtirjthpx6kq3gqo52/lib/python39.zip',\n",
       " '/collab/usr/gapps/python/build/spack-toss4.1/var/spack/environments/python/._view/75prb56irmif5ejtirjthpx6kq3gqo52/lib/python3.9',\n",
       " '/collab/usr/gapps/python/build/spack-toss4.1/var/spack/environments/python/._view/75prb56irmif5ejtirjthpx6kq3gqo52/lib/python3.9/lib-dynload',\n",
       " '',\n",
       " '/usr/WS2/haridev/dyad/env/python/lib/python3.9/site-packages']"
      ]
     },
     "execution_count": 6,
     "metadata": {},
     "output_type": "execute_result"
    }
   ],
   "source": [
    "# to make this notebook in dev mode.\n",
    "import sys\n",
    "sys.path.insert(0, app_root)\n",
    "sys.path"
   ]
  },
  {
   "cell_type": "code",
   "execution_count": 7,
   "id": "89d58cc4-dd7a-47f8-82a6-6ef2ea9a2bc0",
   "metadata": {
    "ExecuteTime": {
     "end_time": "2024-01-29T07:14:48.044731Z",
     "start_time": "2024-01-29T07:14:46.457547Z"
    }
   },
   "outputs": [
    {
     "name": "stdout",
     "output_type": "stream",
     "text": [
      "/usr/WS2/haridev/dyad/env/python/lib/python3.9/site-packages/dlp_analyzer/__init__.py\n"
     ]
    }
   ],
   "source": [
    "import dlp_analyzer\n",
    "print(dlp_analyzer.__file__)\n",
    "from dlp_analyzer.main import DLPAnalyzer,get_dlp_configuration,update_dlp_configuration,setup_logging,setup_dask_cluster, reset_dask_cluster, get_dlp_configuration"
   ]
  },
  {
   "cell_type": "code",
   "execution_count": 8,
   "id": "91b2872f",
   "metadata": {
    "ExecuteTime": {
     "end_time": "2024-01-29T07:14:48.079887Z",
     "start_time": "2024-01-29T07:14:48.048032Z"
    }
   },
   "outputs": [],
   "source": [
    "if not use_local:\n",
    "    dask_run_dir = os.path.join(app_root, \"dlp_analyzer\", \"dask\", \"run_dir\")\n",
    "    with open (os.path.join(dask_run_dir, f\"scheduler_{os.getenv('USER')}.json\"), \"r\") as f:\n",
    "        dask_scheduler = json.load(f)[\"address\"]\n",
    "else:\n",
    "    dask_scheduler = None"
   ]
  },
  {
   "cell_type": "code",
   "execution_count": 9,
   "id": "1b330315-f487-409a-b2c6-d6eab2894b87",
   "metadata": {
    "ExecuteTime": {
     "end_time": "2024-01-29T07:14:48.113271Z",
     "start_time": "2024-01-29T07:14:48.082813Z"
    }
   },
   "outputs": [],
   "source": [
    "app_name = \"dyad_dlio_unet3d\" # resnet cosmoflow unet3d mummi deepspeed dlio_resnet dlio_cosmoflow dyad_dlio_unet3d"
   ]
  },
  {
   "cell_type": "code",
   "execution_count": 10,
   "id": "6fe1d34c-f607-4c29-ad3e-e199276fd30c",
   "metadata": {
    "ExecuteTime": {
     "end_time": "2024-01-29T07:14:48.156013Z",
     "start_time": "2024-01-29T07:14:48.119577Z"
    }
   },
   "outputs": [],
   "source": [
    "def get_conditions_dyad_dlio_unet3d(json_object):\n",
    "    app_io_cond = \"getitem\" in json_object[\"cat\"] # dyad_dlio_unet3d\n",
    "    compute_cond = \"compute\" in json_object[\"name\"] # dyad_dlio_unet3d\n",
    "    io_cond = \"POSIX\" == json_object[\"cat\"] # dyad_dlio_unet3d\n",
    "    return app_io_cond, compute_cond, io_cond\n",
    "def get_conditions_cosmoflow(json_object):\n",
    "    app_io_cond = \"TFReader.parse_image\" in json_object[\"name\"] # Cosmoflow\n",
    "    compute_cond = \"compute\" in json_object[\"name\"] # Cosmoflow\n",
    "    io_cond = \"POSIX\" == json_object[\"cat\"] # Cosmoflow\n",
    "    return app_io_cond, compute_cond, io_cond\n",
    "\n",
    "def get_conditions_resnet(json_object):\n",
    "    app_io_cond = \"IO\" == json_object[\"cat\"] # Resnet50\n",
    "    compute_cond = \"cpu\" in json_object[\"name\"] or \"compute\" in json_object[\"cat\"] # Resnet50\n",
    "    io_cond = \"POSIX\" == json_object[\"cat\"] # Cosmoflow\n",
    "    return app_io_cond, compute_cond, io_cond\n",
    "\n",
    "def get_conditions_unet3d(json_object):\n",
    "    app_io_cond = \"NPZReader.read_index\" in json_object[\"name\"] # Unet3d\n",
    "    compute_cond = \"compute\" in json_object[\"name\"] # Unet3d\n",
    "    io_cond = \"POSIX\" == json_object[\"cat\"] # Cosmoflow\n",
    "    return app_io_cond, compute_cond, io_cond\n",
    "\n",
    "def get_conditions_dlio_resnet(json_object):\n",
    "    app_io_cond = \"read_index\" in json_object[\"name\"] # Unet3d\n",
    "    compute_cond = \"compute\" in json_object[\"name\"] # Unet3d\n",
    "    io_cond = \"POSIX\" == json_object[\"cat\"] # Cosmoflow\n",
    "    return app_io_cond, compute_cond, io_cond\n"
   ]
  },
  {
   "cell_type": "code",
   "execution_count": 11,
   "id": "face72a1-485a-4168-b87a-2171aad37691",
   "metadata": {
    "ExecuteTime": {
     "end_time": "2024-01-29T07:14:48.192932Z",
     "start_time": "2024-01-29T07:14:48.158769Z"
    }
   },
   "outputs": [],
   "source": [
    "condition_fn = None #\n",
    "if app_name == \"cosmoflow\":\n",
    "    filename = \"/usr/WS2/iopp/kogiou1/dlio_benchmark/hydra_log/cosmoflow/2023-10-31-10-27-24/.trace*.pfw.gz\"\n",
    "    condition_fn = get_conditions_cosmoflow\n",
    "elif app_name == \"dlio_cosmoflow\":\n",
    "    filename = \"/usr/workspace/iopp/kogiou1/dlio_benchmark/hydra_log/cosmoflow/2023-11-01-18-47-58/.trace*.pfw.gz\"\n",
    "    condition_fn = get_conditions_cosmoflow\n",
    "elif app_name == \"resnet\":\n",
    "    filename = \"/usr/workspace/iopp/dlio_paper_results/resnet_50_1node_4ppn/*.pfw.gz\"\n",
    "    condition_fn = get_conditions_resnet\n",
    "elif app_name == \"unet3d\":\n",
    "    filename = \"/usr/workspace/iopp/kogiou1/dlio_benchmark_logs/unet3d/node_32_ppn_4/.trace*.pfw.gz\"\n",
    "    condition_fn = get_conditions_unet3d\n",
    "elif app_name == \"mummi\":\n",
    "    filename = \"/usr/workspace/iopp/dlp_traces/mummi-32-node/trace*.pfw.gz\"\n",
    "elif app_name == \"deepspeed\":\n",
    "    filename = \"/usr/workspace/iopp/dlp_traces/deepspeed_8_4ppn/*.pfw.gz\"\n",
    "elif app_name == \"dlio_resnet\":\n",
    "    filename = \"/usr/workspace/iopp/kogiou1/dlio_benchmark/hydra_log/resnet50/2023-11-01-10-52-58/.trace*.pfw.gz\"\n",
    "    condition_fn = get_conditions_dlio_resnet\n",
    "elif app_name == \"dyad_dlio_unet3d\":\n",
    "    #filename = \"/usr/workspace/ice4hpc/dlio/dyad_logs/final_opts/n1_p8_br1/*.pfw\"\n",
    "    filename = \"/usr/workspace/ice4hpc/dlio/dyad_logs/01-27/n2_p8_br1/*.pfw\"\n",
    "    filename = \"/usr/WS2/haridev/dyad/tests/integration/dlio_benchmark/hydra_log/unet3d/2024-01-27-20-06-06/*.pfw\"\n",
    "    #filename = \"/usr/WS2/haridev/dyad/tests/integration/dlio_benchmark/hydra_log/unet3d/2024-01-27-20-16-14/*.pfw\"\n",
    "    filename = \"/usr/WS2/haridev/dyad/tests/integration/dlio_benchmark/hydra_log/unet3d/2024-01-28-23-08-42/*.pfw\" # shm\n",
    "    condition_fn = get_conditions_dyad_dlio_unet3d\n",
    "else:\n",
    "    raise Exception(\"Unknown App name\")"
   ]
  },
  {
   "cell_type": "code",
   "execution_count": 12,
   "id": "d7d8637e",
   "metadata": {
    "ExecuteTime": {
     "end_time": "2024-01-29T07:14:48.228347Z",
     "start_time": "2024-01-29T07:14:48.195682Z"
    }
   },
   "outputs": [],
   "source": [
    "def dyad_function(json_object, current_dict, time_approximate,condition_fn):\n",
    "    d = {}\n",
    "    if \"args\" in json_object:\n",
    "        if \"file_size\" in json_object[\"args\"]:\n",
    "            d[\"size\"] = int(json_object[\"args\"][\"file_size\"])\n",
    "        elif \"step\" in json_object[\"args\"]:\n",
    "            d[\"step\"] = int(json_object[\"args\"][\"step\"])\n",
    "        elif \"epoch\" in json_object[\"args\"]:\n",
    "            d[\"epoch\"] = int(json_object[\"args\"][\"epoch\"])\n",
    "    return d"
   ]
  },
  {
   "cell_type": "code",
   "execution_count": 13,
   "id": "025a3289",
   "metadata": {
    "ExecuteTime": {
     "end_time": "2024-01-29T07:14:48.261377Z",
     "start_time": "2024-01-29T07:14:48.231206Z"
    }
   },
   "outputs": [],
   "source": [
    "dict_fn = None\n",
    "if app_name == \"dyad_dlio_unet3d\":\n",
    "    dict_fn = dyad_function"
   ]
  },
  {
   "cell_type": "code",
   "execution_count": 14,
   "id": "5f41509f",
   "metadata": {
    "ExecuteTime": {
     "end_time": "2024-01-29T07:14:48.294466Z",
     "start_time": "2024-01-29T07:14:48.264161Z"
    }
   },
   "outputs": [],
   "source": [
    "load_cols = {}\n",
    "if app_name == \"dyad_dlio_unet3d\":\n",
    "    load_cols = {'epoch': \"uint64[pyarrow]\",\n",
    "                 'step': \"uint64[pyarrow]\"}"
   ]
  },
  {
   "cell_type": "code",
   "execution_count": 15,
   "id": "d3a7cf5b-fbbc-4eee-9ed5-ce869f4541e6",
   "metadata": {
    "ExecuteTime": {
     "end_time": "2024-01-29T07:14:48.328475Z",
     "start_time": "2024-01-29T07:14:48.297308Z"
    }
   },
   "outputs": [],
   "source": [
    "conf = update_dlp_configuration(dask_scheduler=dask_scheduler, verbose=True, workers=16,\n",
    "                                log_file=f\"./dlp_{os.getenv('USER')}.log\", rebuild_index=False, time_approximate=True, \n",
    "                                host_pattern=r'lassen(\\d+)', time_granularity=1e6, skip_hostname=True, conditions=condition_fn)\n"
   ]
  },
  {
   "cell_type": "code",
   "execution_count": 16,
   "id": "9ae31f27-a26a-463a-b2e9-3adba8de7246",
   "metadata": {
    "ExecuteTime": {
     "end_time": "2024-01-29T07:14:48.362983Z",
     "start_time": "2024-01-29T07:14:48.330761Z"
    },
    "scrolled": true
   },
   "outputs": [
    {
     "data": {
      "text/plain": [
       "True"
      ]
     },
     "execution_count": 16,
     "metadata": {},
     "output_type": "execute_result"
    }
   ],
   "source": [
    "conf = get_dlp_configuration()\n",
    "conf.time_approximate"
   ]
  },
  {
   "cell_type": "code",
   "execution_count": 17,
   "id": "04428959-820f-4466-8ceb-778bcce93bf0",
   "metadata": {
    "ExecuteTime": {
     "end_time": "2024-01-29T07:14:48.396383Z",
     "start_time": "2024-01-29T07:14:48.365244Z"
    }
   },
   "outputs": [],
   "source": [
    "setup_logging()"
   ]
  },
  {
   "cell_type": "code",
   "execution_count": 18,
   "id": "68e813b7-6b95-4f31-b223-1fb50774db50",
   "metadata": {
    "ExecuteTime": {
     "end_time": "2024-01-29T07:14:52.499403Z",
     "start_time": "2024-01-29T07:14:48.399205Z"
    }
   },
   "outputs": [
    {
     "name": "stderr",
     "output_type": "stream",
     "text": [
      "[INFO] [23:14:52] Initialized Client with 16 workers and link http://127.0.0.1:8787/status [/usr/WS2/haridev/dyad/env/python/lib/python3.9/site-packages/dlp_analyzer/main.py:670]\n",
      "2024-01-28 23:14:52,736 - distributed.nanny - WARNING - Restarting worker\n",
      "2024-01-28 23:14:52,759 - distributed.nanny - WARNING - Restarting worker\n",
      "2024-01-28 23:14:52,785 - distributed.nanny - WARNING - Restarting worker\n",
      "2024-01-28 23:14:52,809 - distributed.nanny - WARNING - Restarting worker\n",
      "2024-01-28 23:14:52,841 - distributed.nanny - WARNING - Restarting worker\n",
      "2024-01-28 23:14:52,857 - distributed.nanny - WARNING - Restarting worker\n",
      "2024-01-28 23:14:52,861 - distributed.nanny - WARNING - Restarting worker\n",
      "2024-01-28 23:14:52,902 - distributed.nanny - WARNING - Restarting worker\n",
      "2024-01-28 23:14:52,919 - distributed.nanny - WARNING - Restarting worker\n",
      "2024-01-28 23:14:52,956 - distributed.nanny - WARNING - Restarting worker\n",
      "2024-01-28 23:14:52,959 - distributed.nanny - WARNING - Restarting worker\n",
      "2024-01-28 23:14:52,999 - distributed.nanny - WARNING - Restarting worker\n",
      "2024-01-28 23:14:53,003 - distributed.nanny - WARNING - Restarting worker\n",
      "2024-01-28 23:14:53,019 - distributed.nanny - WARNING - Restarting worker\n",
      "2024-01-28 23:14:53,037 - distributed.nanny - WARNING - Restarting worker\n",
      "2024-01-28 23:14:53,058 - distributed.nanny - WARNING - Restarting worker\n"
     ]
    }
   ],
   "source": [
    "setup_dask_cluster()"
   ]
  },
  {
   "cell_type": "code",
   "execution_count": 19,
   "id": "236e50a4-03b6-4895-a0a5-d473f5e391b5",
   "metadata": {
    "ExecuteTime": {
     "end_time": "2024-01-29T07:14:54.911151Z",
     "start_time": "2024-01-29T07:14:52.502644Z"
    },
    "scrolled": true
   },
   "outputs": [
    {
     "name": "stderr",
     "output_type": "stream",
     "text": [
      "[INFO] [23:14:54] Restarting all workers [/usr/WS2/haridev/dyad/env/python/lib/python3.9/site-packages/dlp_analyzer/main.py:658]\n"
     ]
    }
   ],
   "source": [
    "reset_dask_cluster()"
   ]
  },
  {
   "cell_type": "code",
   "execution_count": 20,
   "id": "b37727ee-a221-43ab-81e1-cdf98c2cf314",
   "metadata": {
    "ExecuteTime": {
     "end_time": "2024-01-29T07:14:58.567889Z",
     "start_time": "2024-01-29T07:14:54.913380Z"
    },
    "scrolled": true
   },
   "outputs": [
    {
     "name": "stderr",
     "output_type": "stream",
     "text": [
      "[INFO] [23:14:55] Created index for 0 files [/usr/WS2/haridev/dyad/env/python/lib/python3.9/site-packages/dlp_analyzer/main.py:367]\n",
      "[INFO] [23:14:55] Total size of all files are <dask.bag.core.Item object at 0x155519a3c790> bytes [/usr/WS2/haridev/dyad/env/python/lib/python3.9/site-packages/dlp_analyzer/main.py:369]\n",
      "[INFO] [23:14:58] Loaded events [/usr/WS2/haridev/dyad/env/python/lib/python3.9/site-packages/dlp_analyzer/main.py:424]\n",
      "[INFO] [23:14:58] Loaded plots with slope threshold: 45 [/usr/WS2/haridev/dyad/env/python/lib/python3.9/site-packages/dlp_analyzer/main.py:430]\n"
     ]
    }
   ],
   "source": [
    "analyzer = DLPAnalyzer(filename, load_fn=dict_fn, load_cols=load_cols)"
   ]
  },
  {
   "cell_type": "code",
   "execution_count": 21,
   "id": "c8c4b2d0-76c4-46df-9a35-068c98aaa7f8",
   "metadata": {
    "ExecuteTime": {
     "end_time": "2024-01-29T07:14:58.881840Z",
     "start_time": "2024-01-29T07:14:58.571943Z"
    }
   },
   "outputs": [
    {
     "data": {
      "text/html": [
       "<div>\n",
       "<style scoped>\n",
       "    .dataframe tbody tr th:only-of-type {\n",
       "        vertical-align: middle;\n",
       "    }\n",
       "\n",
       "    .dataframe tbody tr th {\n",
       "        vertical-align: top;\n",
       "    }\n",
       "\n",
       "    .dataframe thead th {\n",
       "        text-align: right;\n",
       "    }\n",
       "</style>\n",
       "<table border=\"1\" class=\"dataframe\">\n",
       "  <thead>\n",
       "    <tr style=\"text-align: right;\">\n",
       "      <th></th>\n",
       "      <th>name</th>\n",
       "      <th>cat</th>\n",
       "      <th>pid</th>\n",
       "      <th>tid</th>\n",
       "      <th>ts</th>\n",
       "      <th>te</th>\n",
       "      <th>dur</th>\n",
       "      <th>tinterval</th>\n",
       "      <th>trange</th>\n",
       "      <th>hostname</th>\n",
       "      <th>compute_time</th>\n",
       "      <th>io_time</th>\n",
       "      <th>app_io_time</th>\n",
       "      <th>total_time</th>\n",
       "      <th>filename</th>\n",
       "      <th>phase</th>\n",
       "      <th>size</th>\n",
       "      <th>epoch</th>\n",
       "      <th>step</th>\n",
       "    </tr>\n",
       "  </thead>\n",
       "  <tbody>\n",
       "    <tr>\n",
       "      <th>0</th>\n",
       "      <td>DLIOBenchmark.__init__</td>\n",
       "      <td>dlio_benchmark</td>\n",
       "      <td>1</td>\n",
       "      <td>4158662</td>\n",
       "      <td>159</td>\n",
       "      <td>195</td>\n",
       "      <td>36</td>\n",
       "      <td>&lt;NA&gt;</td>\n",
       "      <td>0.0</td>\n",
       "      <td>corona171</td>\n",
       "      <td>&lt;NA&gt;</td>\n",
       "      <td>&lt;NA&gt;</td>\n",
       "      <td>&lt;NA&gt;</td>\n",
       "      <td>0</td>\n",
       "      <td>&lt;NA&gt;</td>\n",
       "      <td>0</td>\n",
       "      <td>&lt;NA&gt;</td>\n",
       "      <td>&lt;NA&gt;</td>\n",
       "      <td>&lt;NA&gt;</td>\n",
       "    </tr>\n",
       "    <tr>\n",
       "      <th>1</th>\n",
       "      <td>FileStorage.get_uri</td>\n",
       "      <td>storage</td>\n",
       "      <td>1</td>\n",
       "      <td>4158662</td>\n",
       "      <td>3339</td>\n",
       "      <td>3348</td>\n",
       "      <td>9</td>\n",
       "      <td>&lt;NA&gt;</td>\n",
       "      <td>0.0</td>\n",
       "      <td>corona171</td>\n",
       "      <td>&lt;NA&gt;</td>\n",
       "      <td>&lt;NA&gt;</td>\n",
       "      <td>&lt;NA&gt;</td>\n",
       "      <td>0</td>\n",
       "      <td>&lt;NA&gt;</td>\n",
       "      <td>0</td>\n",
       "      <td>&lt;NA&gt;</td>\n",
       "      <td>&lt;NA&gt;</td>\n",
       "      <td>&lt;NA&gt;</td>\n",
       "    </tr>\n",
       "    <tr>\n",
       "      <th>2</th>\n",
       "      <td>opendir</td>\n",
       "      <td>POSIX</td>\n",
       "      <td>1</td>\n",
       "      <td>4158662</td>\n",
       "      <td>3432</td>\n",
       "      <td>9060</td>\n",
       "      <td>5628</td>\n",
       "      <td>&lt;NA&gt;</td>\n",
       "      <td>0.0</td>\n",
       "      <td>corona171</td>\n",
       "      <td>&lt;NA&gt;</td>\n",
       "      <td>5628</td>\n",
       "      <td>&lt;NA&gt;</td>\n",
       "      <td>5628</td>\n",
       "      <td>/p/lustre2/haridev/dyad/dlio_benchmark/dyad_un...</td>\n",
       "      <td>2</td>\n",
       "      <td>&lt;NA&gt;</td>\n",
       "      <td>&lt;NA&gt;</td>\n",
       "      <td>&lt;NA&gt;</td>\n",
       "    </tr>\n",
       "    <tr>\n",
       "      <th>3</th>\n",
       "      <td>FileStorage.walk_node</td>\n",
       "      <td>storage</td>\n",
       "      <td>1</td>\n",
       "      <td>4158662</td>\n",
       "      <td>3328</td>\n",
       "      <td>10635</td>\n",
       "      <td>7307</td>\n",
       "      <td>&lt;NA&gt;</td>\n",
       "      <td>0.0</td>\n",
       "      <td>corona171</td>\n",
       "      <td>&lt;NA&gt;</td>\n",
       "      <td>&lt;NA&gt;</td>\n",
       "      <td>&lt;NA&gt;</td>\n",
       "      <td>0</td>\n",
       "      <td>&lt;NA&gt;</td>\n",
       "      <td>0</td>\n",
       "      <td>&lt;NA&gt;</td>\n",
       "      <td>&lt;NA&gt;</td>\n",
       "      <td>&lt;NA&gt;</td>\n",
       "    </tr>\n",
       "    <tr>\n",
       "      <th>4</th>\n",
       "      <td>FileStorage.get_uri</td>\n",
       "      <td>storage</td>\n",
       "      <td>1</td>\n",
       "      <td>4158662</td>\n",
       "      <td>10710</td>\n",
       "      <td>10718</td>\n",
       "      <td>8</td>\n",
       "      <td>&lt;NA&gt;</td>\n",
       "      <td>0.0</td>\n",
       "      <td>corona171</td>\n",
       "      <td>&lt;NA&gt;</td>\n",
       "      <td>&lt;NA&gt;</td>\n",
       "      <td>&lt;NA&gt;</td>\n",
       "      <td>0</td>\n",
       "      <td>&lt;NA&gt;</td>\n",
       "      <td>0</td>\n",
       "      <td>&lt;NA&gt;</td>\n",
       "      <td>&lt;NA&gt;</td>\n",
       "      <td>&lt;NA&gt;</td>\n",
       "    </tr>\n",
       "  </tbody>\n",
       "</table>\n",
       "</div>"
      ],
      "text/plain": [
       "                     name             cat  pid      tid     ts     te   dur  \\\n",
       "0  DLIOBenchmark.__init__  dlio_benchmark    1  4158662    159    195    36   \n",
       "1     FileStorage.get_uri         storage    1  4158662   3339   3348     9   \n",
       "2                 opendir           POSIX    1  4158662   3432   9060  5628   \n",
       "3   FileStorage.walk_node         storage    1  4158662   3328  10635  7307   \n",
       "4     FileStorage.get_uri         storage    1  4158662  10710  10718     8   \n",
       "\n",
       "   tinterval  trange   hostname  compute_time  io_time  app_io_time  \\\n",
       "0       <NA>     0.0  corona171          <NA>     <NA>         <NA>   \n",
       "1       <NA>     0.0  corona171          <NA>     <NA>         <NA>   \n",
       "2       <NA>     0.0  corona171          <NA>     5628         <NA>   \n",
       "3       <NA>     0.0  corona171          <NA>     <NA>         <NA>   \n",
       "4       <NA>     0.0  corona171          <NA>     <NA>         <NA>   \n",
       "\n",
       "   total_time                                           filename  phase  size  \\\n",
       "0           0                                               <NA>      0  <NA>   \n",
       "1           0                                               <NA>      0  <NA>   \n",
       "2        5628  /p/lustre2/haridev/dyad/dlio_benchmark/dyad_un...      2  <NA>   \n",
       "3           0                                               <NA>      0  <NA>   \n",
       "4           0                                               <NA>      0  <NA>   \n",
       "\n",
       "   epoch  step  \n",
       "0   <NA>  <NA>  \n",
       "1   <NA>  <NA>  \n",
       "2   <NA>  <NA>  \n",
       "3   <NA>  <NA>  \n",
       "4   <NA>  <NA>  "
      ]
     },
     "execution_count": 21,
     "metadata": {},
     "output_type": "execute_result"
    }
   ],
   "source": [
    "analyzer.events.head()"
   ]
  },
  {
   "cell_type": "code",
   "execution_count": 22,
   "id": "34c6fa12-ce7f-4bc9-b24e-c3b59b739147",
   "metadata": {
    "ExecuteTime": {
     "end_time": "2024-01-29T07:14:58.936066Z",
     "start_time": "2024-01-29T07:14:58.886020Z"
    },
    "scrolled": true
   },
   "outputs": [],
   "source": [
    "#analyzer.events[[\"io_time\",\"compute_time\",\"app_io_time\"]].max().compute() / 1e6"
   ]
  },
  {
   "cell_type": "code",
   "execution_count": 23,
   "id": "f057a7a8-e3b3-4ed6-b1b9-769d52c7be4d",
   "metadata": {
    "ExecuteTime": {
     "end_time": "2024-01-29T07:14:59.695536Z",
     "start_time": "2024-01-29T07:14:58.939616Z"
    },
    "scrolled": true
   },
   "outputs": [
    {
     "name": "stderr",
     "output_type": "stream",
     "text": [
      "[INFO] [23:14:59] Total number of events in the workload are 249708 [/usr/WS2/haridev/dyad/env/python/lib/python3.9/site-packages/dlp_analyzer/main.py:522]\n",
      "[INFO] [23:14:59] Approximate True 65742275, 7176790.0, 35406265.0, 0.0,                1609109.0, 29838584.0, 0.0, 35406265.0 [/usr/WS2/haridev/dyad/env/python/lib/python3.9/site-packages/dlp_analyzer/main.py:476]\n"
     ]
    },
    {
     "data": {
      "text/html": [
       "<pre style=\"white-space:pre;overflow-x:auto;line-height:normal;font-family:Menlo,'DejaVu Sans Mono',consolas,'Courier New',monospace\">╭──────────────────────────────────────────────────── Summary ────────────────────────────────────────────────────╮\n",
       "│ <span style=\"color: #008080; text-decoration-color: #008080\"> Allocation   </span> Scheduler Allocation Details                                                                     │\n",
       "│ <span style=\"color: #008080; text-decoration-color: #008080\">              </span> ├── Nodes: 1                                                                                     │\n",
       "│ <span style=\"color: #008080; text-decoration-color: #008080\">              </span> ├── Processes: 8                                                                                 │\n",
       "│ <span style=\"color: #008080; text-decoration-color: #008080\">              </span> ├── Thread allocations across nodes (includes dynamically created threads)                       │\n",
       "│ <span style=\"color: #008080; text-decoration-color: #008080\">              </span> │   ├── Compute: 8                                                                               │\n",
       "│ <span style=\"color: #008080; text-decoration-color: #008080\">              </span> │   └── I/O: 28                                                                                  │\n",
       "│ <span style=\"color: #008080; text-decoration-color: #008080\">              </span> └── Events Recorded: 250K                                                                        │\n",
       "│ <span style=\"color: #008080; text-decoration-color: #008080\"> Dataset      </span> Description of Dataset Used                                                                      │\n",
       "│ <span style=\"color: #008080; text-decoration-color: #008080\">              </span> └── Files: 347                                                                                   │\n",
       "│ <span style=\"color: #008080; text-decoration-color: #008080\"> I/O Behavior </span> Behavior of Application                                                                          │\n",
       "│ <span style=\"color: #008080; text-decoration-color: #008080\">              </span> ├── Split of Time in application                                                                 │\n",
       "│ <span style=\"color: #008080; text-decoration-color: #008080\">              </span> │   ├── Total Time: 65.742 sec                                                                   │\n",
       "│ <span style=\"color: #008080; text-decoration-color: #008080\">              </span> │   ├── Unoverlapped App Compute: 35.406 sec                                                     │\n",
       "│ <span style=\"color: #008080; text-decoration-color: #008080\">              </span> │   ├── Compute: 35.406 sec                                                                      │\n",
       "│ <span style=\"color: #008080; text-decoration-color: #008080\">              </span> │   ├── Overall I/O: 7.177 sec                                                                   │\n",
       "│ <span style=\"color: #008080; text-decoration-color: #008080\">              </span> │   ├── Unoverlapped I/O: 1.609 sec                                                              │\n",
       "│ <span style=\"color: #008080; text-decoration-color: #008080\">              </span> │   └── Unoverlapped Compute: 29.839 sec                                                         │\n",
       "│ <span style=\"color: #008080; text-decoration-color: #008080\">              </span> └── Metrics by function                                                                          │\n",
       "│ <span style=\"color: #008080; text-decoration-color: #008080\">              </span>     ├── Function       |count |                  size                   |                        │\n",
       "│ <span style=\"color: #008080; text-decoration-color: #008080\">              </span>     ├──                |      |min   |25    |mean  |median|75    |max   |                        │\n",
       "│ <span style=\"color: #008080; text-decoration-color: #008080\">              </span>     ├── opendir        |16    |NA    |nan   |nan   |NA    |nan   |NA    |                        │\n",
       "│ <span style=\"color: #008080; text-decoration-color: #008080\">              </span>     ├── __xstat64      |24    |NA    |nan   |nan   |NA    |nan   |NA    |                        │\n",
       "│ <span style=\"color: #008080; text-decoration-color: #008080\">              </span>     ├── mkdir          |8     |NA    |nan   |nan   |NA    |nan   |NA    |                        │\n",
       "│ <span style=\"color: #008080; text-decoration-color: #008080\">              </span>     ├── open64         |3K    |NA    |nan   |nan   |NA    |nan   |NA    |                        │\n",
       "│ <span style=\"color: #008080; text-decoration-color: #008080\">              </span>     ├── __fxstat64     |5K    |NA    |nan   |nan   |NA    |nan   |NA    |                        │\n",
       "│ <span style=\"color: #008080; text-decoration-color: #008080\">              </span>     ├── lseek64        |136K  |NA    |nan   |nan   |NA    |nan   |NA    |                        │\n",
       "│ <span style=\"color: #008080; text-decoration-color: #008080\">              </span>     ├── write          |568   |55    |73    |3MB   |183   |2MB   |476MB |                        │\n",
       "│ <span style=\"color: #008080; text-decoration-color: #008080\">              </span>     ├── close          |5K    |NA    |nan   |nan   |NA    |nan   |NA    |                        │\n",
       "│ <span style=\"color: #008080; text-decoration-color: #008080\">              </span>     ├── readlink       |5K    |NA    |nan   |nan   |NA    |nan   |NA    |                        │\n",
       "│ <span style=\"color: #008080; text-decoration-color: #008080\">              </span>     ├── read           |66K   |NA    |4KB   |363KB |4KB   |252KB |4MB   |                        │\n",
       "│ <span style=\"color: #008080; text-decoration-color: #008080\">              </span>     ├── open           |2K    |NA    |nan   |nan   |NA    |nan   |NA    |                        │\n",
       "│ <span style=\"color: #008080; text-decoration-color: #008080\">              </span>     ├── fcntl          |5K    |NA    |nan   |nan   |NA    |nan   |NA    |                        │\n",
       "│ <span style=\"color: #008080; text-decoration-color: #008080\">              </span>     ├── lseek          |5K    |NA    |nan   |nan   |NA    |nan   |NA    |                        │\n",
       "│ <span style=\"color: #008080; text-decoration-color: #008080\">              </span>     ├── __xstat        |70    |NA    |nan   |nan   |NA    |nan   |NA    |                        │\n",
       "│ <span style=\"color: #008080; text-decoration-color: #008080\">              </span>     └── fsync          |70    |NA    |nan   |nan   |NA    |nan   |NA    |                        │\n",
       "╰─────────────────────────────────────────────────────────────────────────────────────────────────────────────────╯\n",
       "</pre>\n"
      ],
      "text/plain": [
       "╭──────────────────────────────────────────────────── Summary ────────────────────────────────────────────────────╮\n",
       "│ \u001b[36m \u001b[0m\u001b[36mAllocation  \u001b[0m\u001b[36m \u001b[0m Scheduler Allocation Details                                                                     │\n",
       "│ \u001b[36m              \u001b[0m ├── Nodes: 1                                                                                     │\n",
       "│ \u001b[36m              \u001b[0m ├── Processes: 8                                                                                 │\n",
       "│ \u001b[36m              \u001b[0m ├── Thread allocations across nodes (includes dynamically created threads)                       │\n",
       "│ \u001b[36m              \u001b[0m │   ├── Compute: 8                                                                               │\n",
       "│ \u001b[36m              \u001b[0m │   └── I/O: 28                                                                                  │\n",
       "│ \u001b[36m              \u001b[0m └── Events Recorded: 250K                                                                        │\n",
       "│ \u001b[36m \u001b[0m\u001b[36mDataset     \u001b[0m\u001b[36m \u001b[0m Description of Dataset Used                                                                      │\n",
       "│ \u001b[36m              \u001b[0m └── Files: 347                                                                                   │\n",
       "│ \u001b[36m \u001b[0m\u001b[36mI/O Behavior\u001b[0m\u001b[36m \u001b[0m Behavior of Application                                                                          │\n",
       "│ \u001b[36m              \u001b[0m ├── Split of Time in application                                                                 │\n",
       "│ \u001b[36m              \u001b[0m │   ├── Total Time: 65.742 sec                                                                   │\n",
       "│ \u001b[36m              \u001b[0m │   ├── Unoverlapped App Compute: 35.406 sec                                                     │\n",
       "│ \u001b[36m              \u001b[0m │   ├── Compute: 35.406 sec                                                                      │\n",
       "│ \u001b[36m              \u001b[0m │   ├── Overall I/O: 7.177 sec                                                                   │\n",
       "│ \u001b[36m              \u001b[0m │   ├── Unoverlapped I/O: 1.609 sec                                                              │\n",
       "│ \u001b[36m              \u001b[0m │   └── Unoverlapped Compute: 29.839 sec                                                         │\n",
       "│ \u001b[36m              \u001b[0m └── Metrics by function                                                                          │\n",
       "│ \u001b[36m              \u001b[0m     ├── Function       |count |                  size                   |                        │\n",
       "│ \u001b[36m              \u001b[0m     ├──                |      |min   |25    |mean  |median|75    |max   |                        │\n",
       "│ \u001b[36m              \u001b[0m     ├── opendir        |16    |NA    |nan   |nan   |NA    |nan   |NA    |                        │\n",
       "│ \u001b[36m              \u001b[0m     ├── __xstat64      |24    |NA    |nan   |nan   |NA    |nan   |NA    |                        │\n",
       "│ \u001b[36m              \u001b[0m     ├── mkdir          |8     |NA    |nan   |nan   |NA    |nan   |NA    |                        │\n",
       "│ \u001b[36m              \u001b[0m     ├── open64         |3K    |NA    |nan   |nan   |NA    |nan   |NA    |                        │\n",
       "│ \u001b[36m              \u001b[0m     ├── __fxstat64     |5K    |NA    |nan   |nan   |NA    |nan   |NA    |                        │\n",
       "│ \u001b[36m              \u001b[0m     ├── lseek64        |136K  |NA    |nan   |nan   |NA    |nan   |NA    |                        │\n",
       "│ \u001b[36m              \u001b[0m     ├── write          |568   |55    |73    |3MB   |183   |2MB   |476MB |                        │\n",
       "│ \u001b[36m              \u001b[0m     ├── close          |5K    |NA    |nan   |nan   |NA    |nan   |NA    |                        │\n",
       "│ \u001b[36m              \u001b[0m     ├── readlink       |5K    |NA    |nan   |nan   |NA    |nan   |NA    |                        │\n",
       "│ \u001b[36m              \u001b[0m     ├── read           |66K   |NA    |4KB   |363KB |4KB   |252KB |4MB   |                        │\n",
       "│ \u001b[36m              \u001b[0m     ├── open           |2K    |NA    |nan   |nan   |NA    |nan   |NA    |                        │\n",
       "│ \u001b[36m              \u001b[0m     ├── fcntl          |5K    |NA    |nan   |nan   |NA    |nan   |NA    |                        │\n",
       "│ \u001b[36m              \u001b[0m     ├── lseek          |5K    |NA    |nan   |nan   |NA    |nan   |NA    |                        │\n",
       "│ \u001b[36m              \u001b[0m     ├── __xstat        |70    |NA    |nan   |nan   |NA    |nan   |NA    |                        │\n",
       "│ \u001b[36m              \u001b[0m     └── fsync          |70    |NA    |nan   |nan   |NA    |nan   |NA    |                        │\n",
       "╰─────────────────────────────────────────────────────────────────────────────────────────────────────────────────╯\n"
      ]
     },
     "metadata": {},
     "output_type": "display_data"
    }
   ],
   "source": [
    "# hydra_log/cosmoflow/2023-11-01-18-47-58/\n",
    "items = analyzer.summary()\n",
    "items"
   ]
  },
  {
   "cell_type": "code",
   "execution_count": 24,
   "id": "c22acd72",
   "metadata": {
    "ExecuteTime": {
     "end_time": "2024-01-29T07:14:59.819180Z",
     "start_time": "2024-01-29T07:14:59.698596Z"
    }
   },
   "outputs": [
    {
     "data": {
      "text/html": [
       "<div>\n",
       "<style scoped>\n",
       "    .dataframe tbody tr th:only-of-type {\n",
       "        vertical-align: middle;\n",
       "    }\n",
       "\n",
       "    .dataframe tbody tr th {\n",
       "        vertical-align: top;\n",
       "    }\n",
       "\n",
       "    .dataframe thead th {\n",
       "        text-align: right;\n",
       "    }\n",
       "</style>\n",
       "<table border=\"1\" class=\"dataframe\">\n",
       "  <thead>\n",
       "    <tr style=\"text-align: right;\">\n",
       "      <th></th>\n",
       "      <th>name</th>\n",
       "      <th>cat</th>\n",
       "      <th>pid</th>\n",
       "      <th>tid</th>\n",
       "      <th>ts</th>\n",
       "      <th>te</th>\n",
       "      <th>dur</th>\n",
       "      <th>tinterval</th>\n",
       "      <th>trange</th>\n",
       "      <th>hostname</th>\n",
       "      <th>compute_time</th>\n",
       "      <th>io_time</th>\n",
       "      <th>app_io_time</th>\n",
       "      <th>total_time</th>\n",
       "      <th>filename</th>\n",
       "      <th>phase</th>\n",
       "      <th>size</th>\n",
       "      <th>epoch</th>\n",
       "      <th>step</th>\n",
       "    </tr>\n",
       "  </thead>\n",
       "  <tbody>\n",
       "  </tbody>\n",
       "</table>\n",
       "</div>"
      ],
      "text/plain": [
       "Empty DataFrame\n",
       "Columns: [name, cat, pid, tid, ts, te, dur, tinterval, trange, hostname, compute_time, io_time, app_io_time, total_time, filename, phase, size, epoch, step]\n",
       "Index: []"
      ]
     },
     "execution_count": 24,
     "metadata": {},
     "output_type": "execute_result"
    }
   ],
   "source": [
    "analyzer.events.query(\"name == 'BaseTorchDataset.__getitem__'\").compute()"
   ]
  },
  {
   "cell_type": "code",
   "execution_count": 25,
   "id": "f645f8ac",
   "metadata": {
    "ExecuteTime": {
     "end_time": "2024-01-29T07:14:59.867877Z",
     "start_time": "2024-01-29T07:14:59.821297Z"
    }
   },
   "outputs": [],
   "source": [
    "import pandas as pd\n",
    "pd.set_option('display.max_rows', 1000)"
   ]
  },
  {
   "cell_type": "code",
   "execution_count": 26,
   "id": "4d772781",
   "metadata": {
    "ExecuteTime": {
     "end_time": "2024-01-29T07:15:00.095054Z",
     "start_time": "2024-01-29T07:14:59.870910Z"
    }
   },
   "outputs": [
    {
     "data": {
      "text/html": [
       "<div>\n",
       "<style scoped>\n",
       "    .dataframe tbody tr th:only-of-type {\n",
       "        vertical-align: middle;\n",
       "    }\n",
       "\n",
       "    .dataframe tbody tr th {\n",
       "        vertical-align: top;\n",
       "    }\n",
       "\n",
       "    .dataframe thead th {\n",
       "        text-align: right;\n",
       "    }\n",
       "</style>\n",
       "<table border=\"1\" class=\"dataframe\">\n",
       "  <thead>\n",
       "    <tr style=\"text-align: right;\">\n",
       "      <th></th>\n",
       "      <th>dur</th>\n",
       "      <th>size</th>\n",
       "      <th>bw_mbps</th>\n",
       "    </tr>\n",
       "    <tr>\n",
       "      <th>step</th>\n",
       "      <th></th>\n",
       "      <th></th>\n",
       "      <th></th>\n",
       "    </tr>\n",
       "  </thead>\n",
       "  <tbody>\n",
       "  </tbody>\n",
       "</table>\n",
       "</div>"
      ],
      "text/plain": [
       "Empty DataFrame\n",
       "Columns: [dur, size, bw_mbps]\n",
       "Index: []"
      ]
     },
     "execution_count": 26,
     "metadata": {},
     "output_type": "execute_result"
    }
   ],
   "source": [
    "get_item = analyzer.events.query(\"name == 'BaseTorchDataset.__getitem__'\").\\\n",
    "            groupby([\"trange\",\"pid\",\"tid\",\"step\"]).agg({\"dur\":sum, \"size\":sum}).\\\n",
    "            groupby([\"trange\",\"step\"]).agg({\"dur\":max, \"size\":sum}).\\\n",
    "            groupby([\"step\"]).agg({\"dur\":sum, \"size\":sum}).compute()\n",
    "get_item[\"bw_mbps\"] = get_item[\"size\"]/1024**2/get_item[\"dur\"]*1e6\n",
    "get_item\n"
   ]
  },
  {
   "cell_type": "code",
   "execution_count": 27,
   "id": "fd5798d3",
   "metadata": {
    "ExecuteTime": {
     "end_time": "2024-01-29T07:15:00.454514Z",
     "start_time": "2024-01-29T07:15:00.098181Z"
    }
   },
   "outputs": [
    {
     "data": {
      "text/html": [
       "<div>\n",
       "<style scoped>\n",
       "    .dataframe tbody tr th:only-of-type {\n",
       "        vertical-align: middle;\n",
       "    }\n",
       "\n",
       "    .dataframe tbody tr th {\n",
       "        vertical-align: top;\n",
       "    }\n",
       "\n",
       "    .dataframe thead th {\n",
       "        text-align: right;\n",
       "    }\n",
       "</style>\n",
       "<table border=\"1\" class=\"dataframe\">\n",
       "  <thead>\n",
       "    <tr style=\"text-align: right;\">\n",
       "      <th></th>\n",
       "      <th>dur</th>\n",
       "      <th>size</th>\n",
       "      <th>bw_mbps</th>\n",
       "    </tr>\n",
       "    <tr>\n",
       "      <th>step</th>\n",
       "      <th></th>\n",
       "      <th></th>\n",
       "      <th></th>\n",
       "    </tr>\n",
       "  </thead>\n",
       "  <tbody>\n",
       "    <tr>\n",
       "      <th>1</th>\n",
       "      <td>7771342</td>\n",
       "      <td>201283584</td>\n",
       "      <td>24.700880</td>\n",
       "    </tr>\n",
       "    <tr>\n",
       "      <th>2</th>\n",
       "      <td>5561607</td>\n",
       "      <td>201283584</td>\n",
       "      <td>34.515021</td>\n",
       "    </tr>\n",
       "    <tr>\n",
       "      <th>3</th>\n",
       "      <td>3799894</td>\n",
       "      <td>201283584</td>\n",
       "      <td>50.516931</td>\n",
       "    </tr>\n",
       "    <tr>\n",
       "      <th>4</th>\n",
       "      <td>702792</td>\n",
       "      <td>201283584</td>\n",
       "      <td>273.137691</td>\n",
       "    </tr>\n",
       "    <tr>\n",
       "      <th>5</th>\n",
       "      <td>125441</td>\n",
       "      <td>201283584</td>\n",
       "      <td>1530.273072</td>\n",
       "    </tr>\n",
       "    <tr>\n",
       "      <th>6</th>\n",
       "      <td>133285</td>\n",
       "      <td>201283584</td>\n",
       "      <td>1440.214461</td>\n",
       "    </tr>\n",
       "    <tr>\n",
       "      <th>7</th>\n",
       "      <td>117639</td>\n",
       "      <td>201283584</td>\n",
       "      <td>1631.763143</td>\n",
       "    </tr>\n",
       "    <tr>\n",
       "      <th>8</th>\n",
       "      <td>107326</td>\n",
       "      <td>201283584</td>\n",
       "      <td>1788.559942</td>\n",
       "    </tr>\n",
       "    <tr>\n",
       "      <th>9</th>\n",
       "      <td>110120</td>\n",
       "      <td>201283584</td>\n",
       "      <td>1743.180025</td>\n",
       "    </tr>\n",
       "    <tr>\n",
       "      <th>10</th>\n",
       "      <td>126935</td>\n",
       "      <td>201283584</td>\n",
       "      <td>1512.262058</td>\n",
       "    </tr>\n",
       "    <tr>\n",
       "      <th>11</th>\n",
       "      <td>163528</td>\n",
       "      <td>201283584</td>\n",
       "      <td>1173.860038</td>\n",
       "    </tr>\n",
       "    <tr>\n",
       "      <th>12</th>\n",
       "      <td>169468</td>\n",
       "      <td>201283584</td>\n",
       "      <td>1132.715229</td>\n",
       "    </tr>\n",
       "    <tr>\n",
       "      <th>13</th>\n",
       "      <td>117409</td>\n",
       "      <td>201283584</td>\n",
       "      <td>1634.959708</td>\n",
       "    </tr>\n",
       "    <tr>\n",
       "      <th>14</th>\n",
       "      <td>117613</td>\n",
       "      <td>201283584</td>\n",
       "      <td>1632.123867</td>\n",
       "    </tr>\n",
       "    <tr>\n",
       "      <th>15</th>\n",
       "      <td>164210</td>\n",
       "      <td>201283584</td>\n",
       "      <td>1168.984741</td>\n",
       "    </tr>\n",
       "    <tr>\n",
       "      <th>16</th>\n",
       "      <td>221632</td>\n",
       "      <td>201283584</td>\n",
       "      <td>866.115833</td>\n",
       "    </tr>\n",
       "    <tr>\n",
       "      <th>17</th>\n",
       "      <td>172387</td>\n",
       "      <td>201283584</td>\n",
       "      <td>1113.535153</td>\n",
       "    </tr>\n",
       "    <tr>\n",
       "      <th>18</th>\n",
       "      <td>139189</td>\n",
       "      <td>201283584</td>\n",
       "      <td>1379.124675</td>\n",
       "    </tr>\n",
       "    <tr>\n",
       "      <th>19</th>\n",
       "      <td>147919</td>\n",
       "      <td>201283584</td>\n",
       "      <td>1297.730409</td>\n",
       "    </tr>\n",
       "    <tr>\n",
       "      <th>20</th>\n",
       "      <td>163072</td>\n",
       "      <td>201283584</td>\n",
       "      <td>1177.142516</td>\n",
       "    </tr>\n",
       "    <tr>\n",
       "      <th>21</th>\n",
       "      <td>59622</td>\n",
       "      <td>134189056</td>\n",
       "      <td>2146.399924</td>\n",
       "    </tr>\n",
       "    <tr>\n",
       "      <th>22</th>\n",
       "      <td>125650</td>\n",
       "      <td>134189056</td>\n",
       "      <td>1018.485127</td>\n",
       "    </tr>\n",
       "    <tr>\n",
       "      <th>23</th>\n",
       "      <td>104923</td>\n",
       "      <td>134189056</td>\n",
       "      <td>1219.681636</td>\n",
       "    </tr>\n",
       "    <tr>\n",
       "      <th>24</th>\n",
       "      <td>83222</td>\n",
       "      <td>134189056</td>\n",
       "      <td>1537.726277</td>\n",
       "    </tr>\n",
       "    <tr>\n",
       "      <th>25</th>\n",
       "      <td>79844</td>\n",
       "      <td>134189056</td>\n",
       "      <td>1602.783631</td>\n",
       "    </tr>\n",
       "    <tr>\n",
       "      <th>26</th>\n",
       "      <td>55142</td>\n",
       "      <td>134189056</td>\n",
       "      <td>2320.783727</td>\n",
       "    </tr>\n",
       "    <tr>\n",
       "      <th>27</th>\n",
       "      <td>47196</td>\n",
       "      <td>134189056</td>\n",
       "      <td>2711.514879</td>\n",
       "    </tr>\n",
       "    <tr>\n",
       "      <th>28</th>\n",
       "      <td>122906</td>\n",
       "      <td>134189056</td>\n",
       "      <td>1041.223832</td>\n",
       "    </tr>\n",
       "    <tr>\n",
       "      <th>29</th>\n",
       "      <td>116225</td>\n",
       "      <td>134189056</td>\n",
       "      <td>1101.076844</td>\n",
       "    </tr>\n",
       "    <tr>\n",
       "      <th>30</th>\n",
       "      <td>84852</td>\n",
       "      <td>134189056</td>\n",
       "      <td>1508.186681</td>\n",
       "    </tr>\n",
       "  </tbody>\n",
       "</table>\n",
       "</div>"
      ],
      "text/plain": [
       "          dur       size      bw_mbps\n",
       "step                                 \n",
       "1     7771342  201283584    24.700880\n",
       "2     5561607  201283584    34.515021\n",
       "3     3799894  201283584    50.516931\n",
       "4      702792  201283584   273.137691\n",
       "5      125441  201283584  1530.273072\n",
       "6      133285  201283584  1440.214461\n",
       "7      117639  201283584  1631.763143\n",
       "8      107326  201283584  1788.559942\n",
       "9      110120  201283584  1743.180025\n",
       "10     126935  201283584  1512.262058\n",
       "11     163528  201283584  1173.860038\n",
       "12     169468  201283584  1132.715229\n",
       "13     117409  201283584  1634.959708\n",
       "14     117613  201283584  1632.123867\n",
       "15     164210  201283584  1168.984741\n",
       "16     221632  201283584   866.115833\n",
       "17     172387  201283584  1113.535153\n",
       "18     139189  201283584  1379.124675\n",
       "19     147919  201283584  1297.730409\n",
       "20     163072  201283584  1177.142516\n",
       "21      59622  134189056  2146.399924\n",
       "22     125650  134189056  1018.485127\n",
       "23     104923  134189056  1219.681636\n",
       "24      83222  134189056  1537.726277\n",
       "25      79844  134189056  1602.783631\n",
       "26      55142  134189056  2320.783727\n",
       "27      47196  134189056  2711.514879\n",
       "28     122906  134189056  1041.223832\n",
       "29     116225  134189056  1101.076844\n",
       "30      84852  134189056  1508.186681"
      ]
     },
     "execution_count": 27,
     "metadata": {},
     "output_type": "execute_result"
    }
   ],
   "source": [
    "get_item = analyzer.events.query(\"name == 'DYADTorchDataset.__getitem__'\").\\\n",
    "            groupby([\"trange\",\"pid\",\"tid\",\"step\"]).agg({\"dur\":sum, \"size\":sum}).\\\n",
    "            groupby([\"trange\",\"step\"]).agg({\"dur\":max, \"size\":sum}).\\\n",
    "            groupby([\"step\"]).agg({\"dur\":sum, \"size\":sum}).compute()\n",
    "get_item[\"bw_mbps\"] = get_item[\"size\"]/1024**2/get_item[\"dur\"]*1e6\n",
    "get_item\n"
   ]
  },
  {
   "cell_type": "code",
   "execution_count": 34,
   "id": "eb0e8d7c",
   "metadata": {
    "ExecuteTime": {
     "end_time": "2024-01-29T07:20:09.050328Z",
     "start_time": "2024-01-29T07:20:08.072190Z"
    }
   },
   "outputs": [
    {
     "data": {
      "text/html": [
       "<div>\n",
       "<style scoped>\n",
       "    .dataframe tbody tr th:only-of-type {\n",
       "        vertical-align: middle;\n",
       "    }\n",
       "\n",
       "    .dataframe tbody tr th {\n",
       "        vertical-align: top;\n",
       "    }\n",
       "\n",
       "    .dataframe thead th {\n",
       "        text-align: right;\n",
       "    }\n",
       "</style>\n",
       "<table border=\"1\" class=\"dataframe\">\n",
       "  <thead>\n",
       "    <tr style=\"text-align: right;\">\n",
       "      <th></th>\n",
       "      <th>dur</th>\n",
       "      <th>size</th>\n",
       "      <th>bw_mbps</th>\n",
       "    </tr>\n",
       "    <tr>\n",
       "      <th>trange</th>\n",
       "      <th></th>\n",
       "      <th></th>\n",
       "      <th></th>\n",
       "    </tr>\n",
       "  </thead>\n",
       "  <tbody>\n",
       "  </tbody>\n",
       "</table>\n",
       "</div>"
      ],
      "text/plain": [
       "Empty DataFrame\n",
       "Columns: [dur, size, bw_mbps]\n",
       "Index: []"
      ]
     },
     "execution_count": 34,
     "metadata": {},
     "output_type": "execute_result"
    }
   ],
   "source": [
    "get_item = analyzer.events.query(\"name == 'dyad_fetch_request_cb'\").\\\n",
    "            groupby([\"trange\",\"pid\",\"tid\"]).agg({\"dur\":sum, \"size\":sum}).\\\n",
    "            groupby([\"trange\"]).agg({\"dur\":max, \"size\":sum}).compute()\n",
    "get_item[\"bw_mbps\"] = get_item[\"size\"]/1024**2/get_item[\"dur\"]*1e6\n",
    "get_item\n"
   ]
  },
  {
   "cell_type": "code",
   "execution_count": 28,
   "id": "e856d38d",
   "metadata": {
    "ExecuteTime": {
     "end_time": "2024-01-29T07:15:00.622125Z",
     "start_time": "2024-01-29T07:15:00.468850Z"
    }
   },
   "outputs": [
    {
     "data": {
      "text/html": [
       "<div>\n",
       "<style scoped>\n",
       "    .dataframe tbody tr th:only-of-type {\n",
       "        vertical-align: middle;\n",
       "    }\n",
       "\n",
       "    .dataframe tbody tr th {\n",
       "        vertical-align: top;\n",
       "    }\n",
       "\n",
       "    .dataframe thead th {\n",
       "        text-align: right;\n",
       "    }\n",
       "</style>\n",
       "<table border=\"1\" class=\"dataframe\">\n",
       "  <thead>\n",
       "    <tr style=\"text-align: right;\">\n",
       "      <th></th>\n",
       "      <th>name</th>\n",
       "      <th>cat</th>\n",
       "      <th>pid</th>\n",
       "      <th>tid</th>\n",
       "      <th>ts</th>\n",
       "      <th>te</th>\n",
       "      <th>dur</th>\n",
       "      <th>tinterval</th>\n",
       "      <th>trange</th>\n",
       "      <th>hostname</th>\n",
       "      <th>compute_time</th>\n",
       "      <th>io_time</th>\n",
       "      <th>app_io_time</th>\n",
       "      <th>total_time</th>\n",
       "      <th>filename</th>\n",
       "      <th>phase</th>\n",
       "      <th>size</th>\n",
       "      <th>epoch</th>\n",
       "      <th>step</th>\n",
       "    </tr>\n",
       "  </thead>\n",
       "  <tbody>\n",
       "    <tr>\n",
       "      <th>574</th>\n",
       "      <td>DYADTorchDataset.__getitem__</td>\n",
       "      <td>data_loader</td>\n",
       "      <td>2</td>\n",
       "      <td>4159035</td>\n",
       "      <td>29229612</td>\n",
       "      <td>30394381</td>\n",
       "      <td>1164769</td>\n",
       "      <td>&lt;NA&gt;</td>\n",
       "      <td>29.0</td>\n",
       "      <td>corona171</td>\n",
       "      <td>&lt;NA&gt;</td>\n",
       "      <td>&lt;NA&gt;</td>\n",
       "      <td>&lt;NA&gt;</td>\n",
       "      <td>0</td>\n",
       "      <td>/p/lustre2/haridev/dyad/dlio_benchmark/dyad_un...</td>\n",
       "      <td>0</td>\n",
       "      <td>2096704</td>\n",
       "      <td>&lt;NA&gt;</td>\n",
       "      <td>1</td>\n",
       "    </tr>\n",
       "    <tr>\n",
       "      <th>1263</th>\n",
       "      <td>DYADTorchDataset.__getitem__</td>\n",
       "      <td>data_loader</td>\n",
       "      <td>2</td>\n",
       "      <td>4159035</td>\n",
       "      <td>30394466</td>\n",
       "      <td>31006417</td>\n",
       "      <td>611951</td>\n",
       "      <td>&lt;NA&gt;</td>\n",
       "      <td>30.0</td>\n",
       "      <td>corona171</td>\n",
       "      <td>&lt;NA&gt;</td>\n",
       "      <td>&lt;NA&gt;</td>\n",
       "      <td>&lt;NA&gt;</td>\n",
       "      <td>0</td>\n",
       "      <td>/p/lustre2/haridev/dyad/dlio_benchmark/dyad_un...</td>\n",
       "      <td>0</td>\n",
       "      <td>2096704</td>\n",
       "      <td>&lt;NA&gt;</td>\n",
       "      <td>1</td>\n",
       "    </tr>\n",
       "    <tr>\n",
       "      <th>1330</th>\n",
       "      <td>DYADTorchDataset.__getitem__</td>\n",
       "      <td>data_loader</td>\n",
       "      <td>2</td>\n",
       "      <td>4159035</td>\n",
       "      <td>31006506</td>\n",
       "      <td>31016252</td>\n",
       "      <td>9746</td>\n",
       "      <td>&lt;NA&gt;</td>\n",
       "      <td>31.0</td>\n",
       "      <td>corona171</td>\n",
       "      <td>&lt;NA&gt;</td>\n",
       "      <td>&lt;NA&gt;</td>\n",
       "      <td>&lt;NA&gt;</td>\n",
       "      <td>0</td>\n",
       "      <td>/p/lustre2/haridev/dyad/dlio_benchmark/dyad_un...</td>\n",
       "      <td>0</td>\n",
       "      <td>2096704</td>\n",
       "      <td>&lt;NA&gt;</td>\n",
       "      <td>1</td>\n",
       "    </tr>\n",
       "    <tr>\n",
       "      <th>2050</th>\n",
       "      <td>DYADTorchDataset.__getitem__</td>\n",
       "      <td>data_loader</td>\n",
       "      <td>2</td>\n",
       "      <td>4159035</td>\n",
       "      <td>31016334</td>\n",
       "      <td>31992225</td>\n",
       "      <td>975891</td>\n",
       "      <td>&lt;NA&gt;</td>\n",
       "      <td>31.0</td>\n",
       "      <td>corona171</td>\n",
       "      <td>&lt;NA&gt;</td>\n",
       "      <td>&lt;NA&gt;</td>\n",
       "      <td>&lt;NA&gt;</td>\n",
       "      <td>0</td>\n",
       "      <td>/p/lustre2/haridev/dyad/dlio_benchmark/dyad_un...</td>\n",
       "      <td>0</td>\n",
       "      <td>2096704</td>\n",
       "      <td>&lt;NA&gt;</td>\n",
       "      <td>1</td>\n",
       "    </tr>\n",
       "    <tr>\n",
       "      <th>2119</th>\n",
       "      <td>DYADTorchDataset.__getitem__</td>\n",
       "      <td>data_loader</td>\n",
       "      <td>2</td>\n",
       "      <td>4159035</td>\n",
       "      <td>32003877</td>\n",
       "      <td>32046094</td>\n",
       "      <td>42217</td>\n",
       "      <td>&lt;NA&gt;</td>\n",
       "      <td>32.0</td>\n",
       "      <td>corona171</td>\n",
       "      <td>&lt;NA&gt;</td>\n",
       "      <td>&lt;NA&gt;</td>\n",
       "      <td>&lt;NA&gt;</td>\n",
       "      <td>0</td>\n",
       "      <td>/p/lustre2/haridev/dyad/dlio_benchmark/dyad_un...</td>\n",
       "      <td>0</td>\n",
       "      <td>2096704</td>\n",
       "      <td>&lt;NA&gt;</td>\n",
       "      <td>2</td>\n",
       "    </tr>\n",
       "    <tr>\n",
       "      <th>...</th>\n",
       "      <td>...</td>\n",
       "      <td>...</td>\n",
       "      <td>...</td>\n",
       "      <td>...</td>\n",
       "      <td>...</td>\n",
       "      <td>...</td>\n",
       "      <td>...</td>\n",
       "      <td>...</td>\n",
       "      <td>...</td>\n",
       "      <td>...</td>\n",
       "      <td>...</td>\n",
       "      <td>...</td>\n",
       "      <td>...</td>\n",
       "      <td>...</td>\n",
       "      <td>...</td>\n",
       "      <td>...</td>\n",
       "      <td>...</td>\n",
       "      <td>...</td>\n",
       "      <td>...</td>\n",
       "    </tr>\n",
       "    <tr>\n",
       "      <th>6294</th>\n",
       "      <td>DYADTorchDataset.__getitem__</td>\n",
       "      <td>data_loader</td>\n",
       "      <td>0</td>\n",
       "      <td>4159691</td>\n",
       "      <td>62938744</td>\n",
       "      <td>62947356</td>\n",
       "      <td>8612</td>\n",
       "      <td>&lt;NA&gt;</td>\n",
       "      <td>62.0</td>\n",
       "      <td>corona171</td>\n",
       "      <td>&lt;NA&gt;</td>\n",
       "      <td>&lt;NA&gt;</td>\n",
       "      <td>&lt;NA&gt;</td>\n",
       "      <td>0</td>\n",
       "      <td>/p/lustre2/haridev/dyad/dlio_benchmark/dyad_un...</td>\n",
       "      <td>0</td>\n",
       "      <td>2096704</td>\n",
       "      <td>&lt;NA&gt;</td>\n",
       "      <td>19</td>\n",
       "    </tr>\n",
       "    <tr>\n",
       "      <th>6361</th>\n",
       "      <td>DYADTorchDataset.__getitem__</td>\n",
       "      <td>data_loader</td>\n",
       "      <td>0</td>\n",
       "      <td>4159691</td>\n",
       "      <td>62972950</td>\n",
       "      <td>62979398</td>\n",
       "      <td>6448</td>\n",
       "      <td>&lt;NA&gt;</td>\n",
       "      <td>62.0</td>\n",
       "      <td>corona171</td>\n",
       "      <td>&lt;NA&gt;</td>\n",
       "      <td>&lt;NA&gt;</td>\n",
       "      <td>&lt;NA&gt;</td>\n",
       "      <td>0</td>\n",
       "      <td>/p/lustre2/haridev/dyad/dlio_benchmark/dyad_un...</td>\n",
       "      <td>0</td>\n",
       "      <td>2096704</td>\n",
       "      <td>&lt;NA&gt;</td>\n",
       "      <td>20</td>\n",
       "    </tr>\n",
       "    <tr>\n",
       "      <th>6428</th>\n",
       "      <td>DYADTorchDataset.__getitem__</td>\n",
       "      <td>data_loader</td>\n",
       "      <td>0</td>\n",
       "      <td>4159691</td>\n",
       "      <td>62979474</td>\n",
       "      <td>62988491</td>\n",
       "      <td>9017</td>\n",
       "      <td>&lt;NA&gt;</td>\n",
       "      <td>62.0</td>\n",
       "      <td>corona171</td>\n",
       "      <td>&lt;NA&gt;</td>\n",
       "      <td>&lt;NA&gt;</td>\n",
       "      <td>&lt;NA&gt;</td>\n",
       "      <td>0</td>\n",
       "      <td>/p/lustre2/haridev/dyad/dlio_benchmark/dyad_un...</td>\n",
       "      <td>0</td>\n",
       "      <td>2096704</td>\n",
       "      <td>&lt;NA&gt;</td>\n",
       "      <td>20</td>\n",
       "    </tr>\n",
       "    <tr>\n",
       "      <th>6495</th>\n",
       "      <td>DYADTorchDataset.__getitem__</td>\n",
       "      <td>data_loader</td>\n",
       "      <td>0</td>\n",
       "      <td>4159691</td>\n",
       "      <td>62988583</td>\n",
       "      <td>63002057</td>\n",
       "      <td>13474</td>\n",
       "      <td>&lt;NA&gt;</td>\n",
       "      <td>62.0</td>\n",
       "      <td>corona171</td>\n",
       "      <td>&lt;NA&gt;</td>\n",
       "      <td>&lt;NA&gt;</td>\n",
       "      <td>&lt;NA&gt;</td>\n",
       "      <td>0</td>\n",
       "      <td>/p/lustre2/haridev/dyad/dlio_benchmark/dyad_un...</td>\n",
       "      <td>0</td>\n",
       "      <td>2096704</td>\n",
       "      <td>&lt;NA&gt;</td>\n",
       "      <td>20</td>\n",
       "    </tr>\n",
       "    <tr>\n",
       "      <th>6562</th>\n",
       "      <td>DYADTorchDataset.__getitem__</td>\n",
       "      <td>data_loader</td>\n",
       "      <td>0</td>\n",
       "      <td>4159691</td>\n",
       "      <td>63002132</td>\n",
       "      <td>63019534</td>\n",
       "      <td>17402</td>\n",
       "      <td>&lt;NA&gt;</td>\n",
       "      <td>63.0</td>\n",
       "      <td>corona171</td>\n",
       "      <td>&lt;NA&gt;</td>\n",
       "      <td>&lt;NA&gt;</td>\n",
       "      <td>&lt;NA&gt;</td>\n",
       "      <td>0</td>\n",
       "      <td>/p/lustre2/haridev/dyad/dlio_benchmark/dyad_un...</td>\n",
       "      <td>0</td>\n",
       "      <td>2096704</td>\n",
       "      <td>&lt;NA&gt;</td>\n",
       "      <td>20</td>\n",
       "    </tr>\n",
       "  </tbody>\n",
       "</table>\n",
       "<p>2560 rows × 19 columns</p>\n",
       "</div>"
      ],
      "text/plain": [
       "                              name          cat  pid      tid        ts  \\\n",
       "574   DYADTorchDataset.__getitem__  data_loader    2  4159035  29229612   \n",
       "1263  DYADTorchDataset.__getitem__  data_loader    2  4159035  30394466   \n",
       "1330  DYADTorchDataset.__getitem__  data_loader    2  4159035  31006506   \n",
       "2050  DYADTorchDataset.__getitem__  data_loader    2  4159035  31016334   \n",
       "2119  DYADTorchDataset.__getitem__  data_loader    2  4159035  32003877   \n",
       "...                            ...          ...  ...      ...       ...   \n",
       "6294  DYADTorchDataset.__getitem__  data_loader    0  4159691  62938744   \n",
       "6361  DYADTorchDataset.__getitem__  data_loader    0  4159691  62972950   \n",
       "6428  DYADTorchDataset.__getitem__  data_loader    0  4159691  62979474   \n",
       "6495  DYADTorchDataset.__getitem__  data_loader    0  4159691  62988583   \n",
       "6562  DYADTorchDataset.__getitem__  data_loader    0  4159691  63002132   \n",
       "\n",
       "            te      dur  tinterval  trange   hostname  compute_time  io_time  \\\n",
       "574   30394381  1164769       <NA>    29.0  corona171          <NA>     <NA>   \n",
       "1263  31006417   611951       <NA>    30.0  corona171          <NA>     <NA>   \n",
       "1330  31016252     9746       <NA>    31.0  corona171          <NA>     <NA>   \n",
       "2050  31992225   975891       <NA>    31.0  corona171          <NA>     <NA>   \n",
       "2119  32046094    42217       <NA>    32.0  corona171          <NA>     <NA>   \n",
       "...        ...      ...        ...     ...        ...           ...      ...   \n",
       "6294  62947356     8612       <NA>    62.0  corona171          <NA>     <NA>   \n",
       "6361  62979398     6448       <NA>    62.0  corona171          <NA>     <NA>   \n",
       "6428  62988491     9017       <NA>    62.0  corona171          <NA>     <NA>   \n",
       "6495  63002057    13474       <NA>    62.0  corona171          <NA>     <NA>   \n",
       "6562  63019534    17402       <NA>    63.0  corona171          <NA>     <NA>   \n",
       "\n",
       "      app_io_time  total_time  \\\n",
       "574          <NA>           0   \n",
       "1263         <NA>           0   \n",
       "1330         <NA>           0   \n",
       "2050         <NA>           0   \n",
       "2119         <NA>           0   \n",
       "...           ...         ...   \n",
       "6294         <NA>           0   \n",
       "6361         <NA>           0   \n",
       "6428         <NA>           0   \n",
       "6495         <NA>           0   \n",
       "6562         <NA>           0   \n",
       "\n",
       "                                               filename  phase     size  \\\n",
       "574   /p/lustre2/haridev/dyad/dlio_benchmark/dyad_un...      0  2096704   \n",
       "1263  /p/lustre2/haridev/dyad/dlio_benchmark/dyad_un...      0  2096704   \n",
       "1330  /p/lustre2/haridev/dyad/dlio_benchmark/dyad_un...      0  2096704   \n",
       "2050  /p/lustre2/haridev/dyad/dlio_benchmark/dyad_un...      0  2096704   \n",
       "2119  /p/lustre2/haridev/dyad/dlio_benchmark/dyad_un...      0  2096704   \n",
       "...                                                 ...    ...      ...   \n",
       "6294  /p/lustre2/haridev/dyad/dlio_benchmark/dyad_un...      0  2096704   \n",
       "6361  /p/lustre2/haridev/dyad/dlio_benchmark/dyad_un...      0  2096704   \n",
       "6428  /p/lustre2/haridev/dyad/dlio_benchmark/dyad_un...      0  2096704   \n",
       "6495  /p/lustre2/haridev/dyad/dlio_benchmark/dyad_un...      0  2096704   \n",
       "6562  /p/lustre2/haridev/dyad/dlio_benchmark/dyad_un...      0  2096704   \n",
       "\n",
       "      epoch  step  \n",
       "574    <NA>     1  \n",
       "1263   <NA>     1  \n",
       "1330   <NA>     1  \n",
       "2050   <NA>     1  \n",
       "2119   <NA>     2  \n",
       "...     ...   ...  \n",
       "6294   <NA>    19  \n",
       "6361   <NA>    20  \n",
       "6428   <NA>    20  \n",
       "6495   <NA>    20  \n",
       "6562   <NA>    20  \n",
       "\n",
       "[2560 rows x 19 columns]"
      ]
     },
     "execution_count": 28,
     "metadata": {},
     "output_type": "execute_result"
    }
   ],
   "source": [
    "analyzer.events.query(\"name == 'DYADTorchDataset.__getitem__'\").compute()"
   ]
  },
  {
   "cell_type": "code",
   "execution_count": 29,
   "id": "ad2d7964-1ef7-4bc3-808f-8aad6e1d6d8c",
   "metadata": {
    "ExecuteTime": {
     "end_time": "2024-01-29T07:15:01.743240Z",
     "start_time": "2024-01-29T07:15:00.624177Z"
    },
    "scrolled": true
   },
   "outputs": [
    {
     "data": {
      "image/png": "[encoded data removed]",
      "text/plain": [
       "<Figure size 800x300 with 2 Axes>"
      ]
     },
     "metadata": {},
     "output_type": "display_data"
    }
   ],
   "source": [
    "fig, ax1, ax2 = analyzer.plots.time_bw_timeline(\n",
    "    bw_unit='gb',\n",
    "    figsize=(8, 3),\n",
    "    line1_label='POSIX I/O Time',\n",
    "    line2_label='POSIX I/O Bandwidth',\n",
    "    time_col='io_time',\n",
    "    x_num_ticks=8,\n",
    "    y_num_ticks=5,\n",
    ")"
   ]
  },
  {
   "cell_type": "code",
   "execution_count": 30,
   "id": "e49f767c-ee45-4cbd-b91d-5923a31c7a69",
   "metadata": {
    "ExecuteTime": {
     "end_time": "2024-01-29T07:15:01.975259Z",
     "start_time": "2024-01-29T07:15:01.746332Z"
    },
    "scrolled": true
   },
   "outputs": [
    {
     "data": {
      "text/plain": [
       "name\n",
       "__fxstat64     0.000000\n",
       "__xstat        0.000000\n",
       "__xstat64      0.000000\n",
       "close          0.000000\n",
       "fcntl          0.000000\n",
       "fsync          0.000000\n",
       "lseek          0.000000\n",
       "lseek64        0.000000\n",
       "mkdir          0.000000\n",
       "open           0.000000\n",
       "open64         0.000000\n",
       "opendir        0.000000\n",
       "read          22.903629\n",
       "readlink       0.000000\n",
       "write          1.834860\n",
       "Name: size, dtype: double[pyarrow]"
      ]
     },
     "execution_count": 30,
     "metadata": {},
     "output_type": "execute_result"
    }
   ],
   "source": [
    "analyzer.events.query(\"cat == 'POSIX'\").groupby(\"name\")[\"size\"].sum().compute() / 1024**3"
   ]
  },
  {
   "cell_type": "code",
   "execution_count": 31,
   "id": "ec3d64c9",
   "metadata": {
    "ExecuteTime": {
     "end_time": "2024-01-29T07:15:02.074199Z",
     "start_time": "2024-01-29T07:15:01.978985Z"
    }
   },
   "outputs": [
    {
     "data": {
      "text/plain": [
       "(0, 65742275)"
      ]
     },
     "execution_count": 31,
     "metadata": {},
     "output_type": "execute_result"
    }
   ],
   "source": [
    "dask.compute(analyzer.events[\"ts\"].min(), analyzer.events[\"te\"].max()) "
   ]
  },
  {
   "cell_type": "code",
   "execution_count": 32,
   "id": "ea849078",
   "metadata": {
    "ExecuteTime": {
     "end_time": "2024-01-29T07:15:02.154472Z",
     "start_time": "2024-01-29T07:15:02.077610Z"
    }
   },
   "outputs": [
    {
     "data": {
      "text/plain": [
       "0                    DLIOBenchmark.__init__\n",
       "1                       FileStorage.get_uri\n",
       "2                                   opendir\n",
       "3                     FileStorage.walk_node\n",
       "4                                 __xstat64\n",
       "5                      FileStorage.get_node\n",
       "6     ConfigArguments.derive_configurations\n",
       "7                  ConfigArguments.validate\n",
       "8                  DLIOBenchmark.initialize\n",
       "9      ConfigArguments.get_global_map_index\n",
       "10              ConfigArguments.reconfigure\n",
       "11             DyadTorchDataLoader.__init__\n",
       "12     TorchFramework.is_nativeio_available\n",
       "13                     FileStorage.__init__\n",
       "14                                    mkdir\n",
       "15             FileStorage.create_namespace\n",
       "16               TorchFramework.init_loader\n",
       "17                TorchFramework.get_loader\n",
       "18                DYADTorchDataset.__init__\n",
       "19                 DYADTorchDataset.__len__\n",
       "20                 DyadTorchDataLoader.read\n",
       "21                 DyadTorchDataLoader.next\n",
       "22              TorchFramework.trace_object\n",
       "23                   TorchFramework.compute\n",
       "24                            <module>.iter\n",
       "25                           <module>.yield\n",
       "26                     DLIOBenchmark._train\n",
       "27             DyadTorchDataLoader.finalize\n",
       "28                TorchFramework.checkpoint\n",
       "29                        DLIOBenchmark.run\n",
       "30                                   open64\n",
       "31                               __fxstat64\n",
       "32                                  lseek64\n",
       "33                                    write\n",
       "34                                    close\n",
       "35                       NPZReader.__init__\n",
       "36                            Dyad.__init__\n",
       "37                                 readlink\n",
       "38                                Dyad.init\n",
       "39                        Dyad.get_metadata\n",
       "40                                     read\n",
       "41                           NPZReader.open\n",
       "42                     NPZReader.get_sample\n",
       "43                  FormatReader.preprocess\n",
       "44                          NPZReader.close\n",
       "45                     NPZReader.read_index\n",
       "46                                dyad_open\n",
       "47                             Dyad.produce\n",
       "48             DYADTorchDataset.__getitem__\n",
       "49                                     open\n",
       "50                                    fcntl\n",
       "51                                    lseek\n",
       "52                  Dyad.consume_w_metadata\n",
       "53                       Dyad.free_metadata\n",
       "54                                  __xstat\n",
       "55                                    fsync\n",
       "Name: name, dtype: string"
      ]
     },
     "execution_count": 32,
     "metadata": {},
     "output_type": "execute_result"
    }
   ],
   "source": [
    "analyzer.events[\"name\"].unique().compute()"
   ]
  },
  {
   "cell_type": "code",
   "execution_count": 33,
   "id": "b9ceb5ee",
   "metadata": {
    "ExecuteTime": {
     "end_time": "2024-01-29T07:15:02.998511Z",
     "start_time": "2024-01-29T07:15:02.156809Z"
    }
   },
   "outputs": [
    {
     "ename": "NameError",
     "evalue": "name 'mean' is not defined",
     "output_type": "error",
     "traceback": [
      "\u001b[0;31m---------------------------------------------------------------------------\u001b[0m",
      "\u001b[0;31mNameError\u001b[0m                                 Traceback (most recent call last)",
      "Cell \u001b[0;32mIn[33], line 1\u001b[0m\n\u001b[0;32m----> 1\u001b[0m \u001b[43mmean\u001b[49m\u001b[38;5;241m/\u001b[39m \u001b[38;5;241m3152.028777\u001b[39m \u001b[38;5;241m*\u001b[39m \u001b[38;5;241m1e6\u001b[39m\n",
      "\u001b[0;31mNameError\u001b[0m: name 'mean' is not defined"
     ]
    }
   ],
   "source": [
    "mean/ 3152.028777 * 1e6"
   ]
  },
  {
   "cell_type": "code",
   "execution_count": null,
   "id": "7a003bb2",
   "metadata": {
    "ExecuteTime": {
     "end_time": "2024-01-29T07:15:03.020639Z",
     "start_time": "2024-01-29T07:15:03.020621Z"
    }
   },
   "outputs": [],
   "source": [
    "size = analyzer.events.query(\"name == 'dyad_fetch_request_cb'\")['size'].sum().compute() / 1024**2"
   ]
  },
  {
   "cell_type": "code",
   "execution_count": null,
   "id": "1abadbb1",
   "metadata": {
    "ExecuteTime": {
     "end_time": "2024-01-29T07:15:03.023658Z",
     "start_time": "2024-01-29T07:15:03.023640Z"
    }
   },
   "outputs": [],
   "source": [
    "analyzer.events.query(\"name == 'dyad_fetch_request_cb'\").head()"
   ]
  },
  {
   "cell_type": "code",
   "execution_count": null,
   "id": "0be81363",
   "metadata": {
    "ExecuteTime": {
     "end_time": "2024-01-29T07:15:03.026435Z",
     "start_time": "2024-01-29T07:15:03.026419Z"
    }
   },
   "outputs": [],
   "source": [
    "time = analyzer.events.query(\"name == 'dyad_dtl_ucx_send'\").groupby([\"trange\",\"pid\",\"tid\", \"name\"])[\"dur\"].sum().groupby([\"trange\", \"name\"]).max().groupby([ \"name\"]).sum().compute() / 1e6"
   ]
  },
  {
   "cell_type": "code",
   "execution_count": null,
   "id": "0d86fd38",
   "metadata": {
    "ExecuteTime": {
     "end_time": "2024-01-29T07:15:03.028645Z",
     "start_time": "2024-01-29T07:15:03.028626Z"
    }
   },
   "outputs": [],
   "source": [
    "size/ time"
   ]
  },
  {
   "cell_type": "code",
   "execution_count": null,
   "id": "86617ba5",
   "metadata": {
    "ExecuteTime": {
     "end_time": "2024-01-29T07:15:03.030872Z",
     "start_time": "2024-01-29T07:15:03.030854Z"
    }
   },
   "outputs": [],
   "source": [
    "size/ time"
   ]
  },
  {
   "cell_type": "code",
   "execution_count": null,
   "id": "c16aecd3",
   "metadata": {
    "ExecuteTime": {
     "end_time": "2024-01-29T07:15:03.032330Z",
     "start_time": "2024-01-29T07:15:03.032313Z"
    }
   },
   "outputs": [],
   "source": [
    "analyzer.events.sort_values(\"ts\").head()"
   ]
  },
  {
   "cell_type": "code",
   "execution_count": null,
   "id": "3181e9d5-7203-48a9-9937-6e0e11062aa2",
   "metadata": {
    "ExecuteTime": {
     "end_time": "2024-01-29T07:15:03.035694Z",
     "start_time": "2024-01-29T07:15:03.035674Z"
    }
   },
   "outputs": [],
   "source": [
    "analyzer.events.groupby([\"trange\",\"pid\",\"tid\", \"name\"])[\"io_time\"].sum().groupby([\"trange\", \"name\"]).max().groupby([ \"name\"]).sum().compute() / 1e6"
   ]
  },
  {
   "cell_type": "code",
   "execution_count": null,
   "id": "fcc4be8e-889b-4112-a2c4-11b546f9c6d5",
   "metadata": {
    "ExecuteTime": {
     "end_time": "2024-01-29T07:15:03.037918Z",
     "start_time": "2024-01-29T07:15:03.037898Z"
    },
    "scrolled": true
   },
   "outputs": [],
   "source": [
    "analyzer.events.groupby([\"trange\",\"pid\",\"tid\", \"name\"])[\"io_time\"].count().groupby([\"trange\", \"name\"]).sum().groupby([ \"name\"]).sum().compute()"
   ]
  },
  {
   "cell_type": "code",
   "execution_count": null,
   "id": "5932c31e-931d-4c99-b75c-abe0e53f029a",
   "metadata": {
    "ExecuteTime": {
     "end_time": "2024-01-29T07:15:03.040355Z",
     "start_time": "2024-01-29T07:15:03.040335Z"
    }
   },
   "outputs": [],
   "source": [
    "timeline = analyzer.plots._create_timeline( analyzer.events).compute()"
   ]
  },
  {
   "cell_type": "code",
   "execution_count": null,
   "id": "759b786c-b9e9-45bb-9fda-ad987350e39d",
   "metadata": {
    "ExecuteTime": {
     "end_time": "2024-01-29T07:15:03.042653Z",
     "start_time": "2024-01-29T07:15:03.042634Z"
    }
   },
   "outputs": [],
   "source": [
    "timeline"
   ]
  },
  {
   "cell_type": "code",
   "execution_count": null,
   "id": "1f4f0f32-10f8-44ec-8233-ff265800096a",
   "metadata": {},
   "outputs": [],
   "source": []
  },
  {
   "cell_type": "code",
   "execution_count": null,
   "id": "479f5f05-1102-4ec1-bdfe-966b7f2a787b",
   "metadata": {
    "ExecuteTime": {
     "end_time": "2024-01-29T07:15:03.044490Z",
     "start_time": "2024-01-29T07:15:03.044473Z"
    }
   },
   "outputs": [],
   "source": [
    "fig.savefig(f'{app_name}_posix_io_time.pdf', format='pdf', bbox_inches='tight')"
   ]
  },
  {
   "cell_type": "code",
   "execution_count": null,
   "id": "f319b292-e247-41b7-b9e3-7f9592ad1d12",
   "metadata": {
    "ExecuteTime": {
     "end_time": "2024-01-29T07:15:03.045954Z",
     "start_time": "2024-01-29T07:15:03.045937Z"
    },
    "scrolled": true
   },
   "outputs": [],
   "source": [
    "fig, ax1, ax2 = analyzer.plots.time_bw_timeline(\n",
    "    bw_unit='gb',\n",
    "    figsize=(8, 3),\n",
    "    line1_label='App. I/O Time',\n",
    "    line2_label='App. I/O Bandwidth',\n",
    "    time_col='app_io_time',\n",
    "    x_num_ticks=8,\n",
    "    y_num_ticks=5,\n",
    ")\n",
    "ax2.set_visible(False)"
   ]
  },
  {
   "cell_type": "code",
   "execution_count": null,
   "id": "d8998e34-ad66-4fca-a7e9-45c4f7015862",
   "metadata": {
    "ExecuteTime": {
     "end_time": "2024-01-29T07:15:03.048703Z",
     "start_time": "2024-01-29T07:15:03.048686Z"
    }
   },
   "outputs": [],
   "source": [
    "fig.savefig(f'{app_name}_app_io_time.pdf', format='pdf', bbox_inches='tight')"
   ]
  },
  {
   "cell_type": "code",
   "execution_count": null,
   "id": "771c4a6f-88fc-4929-ab48-f87bf6de6098",
   "metadata": {
    "ExecuteTime": {
     "end_time": "2024-01-29T07:15:03.051149Z",
     "start_time": "2024-01-29T07:15:03.051131Z"
    }
   },
   "outputs": [],
   "source": [
    "fig, ax = analyzer.plots.xfer_size_timeline(\n",
    "    figsize=(8, 3),\n",
    "    unit='kb',\n",
    "    x_num_ticks=8,\n",
    ")"
   ]
  },
  {
   "cell_type": "code",
   "execution_count": null,
   "id": "d8f5b274-5727-479f-838c-dca3abd094f3",
   "metadata": {
    "ExecuteTime": {
     "end_time": "2024-01-29T07:15:03.052828Z",
     "start_time": "2024-01-29T07:15:03.052812Z"
    }
   },
   "outputs": [],
   "source": [
    "fig.savefig(f'{app_name}_xfer_size.pdf', format='pdf', bbox_inches='tight')"
   ]
  },
  {
   "cell_type": "code",
   "execution_count": null,
   "id": "9284c27d-598a-419d-a667-c8816ef3fb71",
   "metadata": {
    "ExecuteTime": {
     "start_time": "2024-01-29T07:14:37.890Z"
    }
   },
   "outputs": [],
   "source": [
    "analyzer.events.query(\"cat == 'POSIX'\").groupby(\"name\")[\"size\"].mean().compute() / (1024**2)"
   ]
  },
  {
   "cell_type": "code",
   "execution_count": null,
   "id": "e52cb7e7-5d51-4126-888b-ee847222b988",
   "metadata": {
    "ExecuteTime": {
     "start_time": "2024-01-29T07:14:37.890Z"
    }
   },
   "outputs": [],
   "source": [
    "analyzer.events.query(\"cat == 'POSIX'\").groupby([\"trange\",\"pid\",\"tid\",\"name\"])[\"io_time\"].sum().groupby([\"trange\",\"name\"]).max().groupby(\"name\").sum().compute() / 1e6"
   ]
  },
  {
   "cell_type": "code",
   "execution_count": null,
   "id": "f446524b-6ebb-496f-b595-9f0456fce540",
   "metadata": {
    "ExecuteTime": {
     "start_time": "2024-01-29T07:14:37.891Z"
    }
   },
   "outputs": [],
   "source": [
    "val = analyzer.events.groupby([\"trange\"]).agg({\"io_time\":[min,max],\"compute_time\":[min,max],\"app_io_time\":[min,max]}).sum().compute()\n",
    "val"
   ]
  },
  {
   "cell_type": "code",
   "execution_count": null,
   "id": "251dad2f-2e57-4473-bdf2-0a3ab1c4813e",
   "metadata": {
    "ExecuteTime": {
     "start_time": "2024-01-29T07:14:37.892Z"
    }
   },
   "outputs": [],
   "source": [
    "val = analyzer.events[\"app_io_time\"].max().compute()\n",
    "val"
   ]
  },
  {
   "cell_type": "code",
   "execution_count": null,
   "id": "58dfba53-d7e2-4370-a446-e57de17d17d5",
   "metadata": {
    "ExecuteTime": {
     "start_time": "2024-01-29T07:14:37.893Z"
    }
   },
   "outputs": [],
   "source": [
    "import dask\n",
    "val1, val2 = dask.compute(analyzer.events[\"ts\"].min() /1e6 , analyzer.events[\"ts\"].max()/1e6)\n",
    "val2 - val1"
   ]
  },
  {
   "cell_type": "code",
   "execution_count": null,
   "id": "556446aa-52a0-4bd0-b650-ab6a9c4ed68c",
   "metadata": {
    "ExecuteTime": {
     "start_time": "2024-01-29T07:14:37.894Z"
    }
   },
   "outputs": [],
   "source": [
    "analyzer.events[\"hostname\"].unique().compute()[:2]"
   ]
  },
  {
   "cell_type": "code",
   "execution_count": null,
   "id": "42c8fafb-8354-466e-a12b-7d5e41e17c31",
   "metadata": {
    "ExecuteTime": {
     "start_time": "2024-01-29T07:14:37.895Z"
    }
   },
   "outputs": [],
   "source": [
    "analyzer.events.query(\"cat == 'POSIX'\").groupby([\"trange\",\"name\"])[\"dur\"].max().sum().compute() / 1e6"
   ]
  },
  {
   "cell_type": "code",
   "execution_count": null,
   "id": "fce6590b-20e9-4dff-9cde-7bdc4c9d714a",
   "metadata": {
    "ExecuteTime": {
     "start_time": "2024-01-29T07:14:37.896Z"
    }
   },
   "outputs": [],
   "source": [
    "analyzer.events.query(\"name == 'open'\").groupby(\"trange\")[\"dur\"].max().sum().compute() / 1e6"
   ]
  },
  {
   "cell_type": "code",
   "execution_count": null,
   "id": "53cfa467-4b5c-4a2f-bff3-196dd3d92225",
   "metadata": {
    "ExecuteTime": {
     "start_time": "2024-01-29T07:14:37.897Z"
    }
   },
   "outputs": [],
   "source": [
    "analyzer.events.groupby([\"cat\",\"name\"])[\"dur\"].sum().compute()"
   ]
  },
  {
   "cell_type": "code",
   "execution_count": null,
   "id": "80672c5c-5a66-4d22-88b6-c97102ff5563",
   "metadata": {
    "ExecuteTime": {
     "start_time": "2024-01-29T07:14:37.899Z"
    }
   },
   "outputs": [],
   "source": [
    "3766287/3.8/1e6, 1022647/3.8/1e6, 1080267/3.8/1e6, 178451/3.8/1e6, (1259124+153089)/3.8/1e6"
   ]
  },
  {
   "cell_type": "code",
   "execution_count": null,
   "id": "0d3d86e7-9dc3-4256-b843-700179459b19",
   "metadata": {},
   "outputs": [],
   "source": []
  }
 ],
 "metadata": {
  "kernelspec": {
   "display_name": "dyad dlio",
   "language": "python",
   "name": "dyad_dlio"
  },
  "language_info": {
   "codemirror_mode": {
    "name": "ipython",
    "version": 3
   },
   "file_extension": ".py",
   "mimetype": "text/x-python",
   "name": "python",
   "nbconvert_exporter": "python",
   "pygments_lexer": "ipython3",
   "version": "3.9.12"
  },
  "varInspector": {
   "cols": {
    "lenName": 16,
    "lenType": 16,
    "lenVar": 40
   },
   "kernels_config": {
    "python": {
     "delete_cmd_postfix": "",
     "delete_cmd_prefix": "del ",
     "library": "var_list.py",
     "varRefreshCmd": "print(var_dic_list())"
    },
    "r": {
     "delete_cmd_postfix": ") ",
     "delete_cmd_prefix": "rm(",
     "library": "var_list.r",
     "varRefreshCmd": "cat(var_dic_list()) "
    }
   },
   "types_to_exclude": [
    "module",
    "function",
    "builtin_function_or_method",
    "instance",
    "_Feature"
   ],
   "window_display": false
  },
  "widgets": {
   "application/vnd.jupyter.widget-state+json": {
    "state": {},
    "version_major": 2,
    "version_minor": 0
   }
  }
 },
 "nbformat": 4,
 "nbformat_minor": 5
}
